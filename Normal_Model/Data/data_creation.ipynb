{
  "nbformat": 4,
  "nbformat_minor": 0,
  "metadata": {
    "colab": {
      "provenance": []
    },
    "kernelspec": {
      "name": "python3",
      "display_name": "Python 3"
    },
    "language_info": {
      "name": "python"
    }
  },
  "cells": [
    {
      "cell_type": "code",
      "execution_count": null,
      "metadata": {
        "colab": {
          "base_uri": "https://localhost:8080/"
        },
        "id": "3Hrf5CAyVEJW",
        "outputId": "c1d43781-ac08-4c8f-b618-5c6dfa79fe59"
      },
      "outputs": [
        {
          "output_type": "stream",
          "name": "stdout",
          "text": [
            "Cloning into 'MTL-Bioinformatics-2016'...\n",
            "remote: Enumerating objects: 426, done.\u001b[K\n",
            "remote: Counting objects: 100% (107/107), done.\u001b[K\n",
            "remote: Compressing objects: 100% (21/21), done.\u001b[K\n",
            "remote: Total 426 (delta 88), reused 86 (delta 86), pack-reused 319\u001b[K\n",
            "Receiving objects: 100% (426/426), 25.55 MiB | 10.78 MiB/s, done.\n",
            "Resolving deltas: 100% (223/223), done.\n",
            "Checking out files: 100% (243/243), done.\n"
          ]
        }
      ],
      "source": [
        "!git clone 'https://github.com/cambridgeltl/MTL-Bioinformatics-2016.git'"
      ]
    },
    {
      "cell_type": "code",
      "source": [
        "import pandas as pd"
      ],
      "metadata": {
        "id": "DtO8MfQlVH_-"
      },
      "execution_count": null,
      "outputs": []
    },
    {
      "cell_type": "code",
      "source": [
        "c = 0"
      ],
      "metadata": {
        "id": "URDfGDrzWsQl"
      },
      "execution_count": null,
      "outputs": []
    },
    {
      "cell_type": "code",
      "source": [
        "def convert_format(file_name):\n",
        "    global c\n",
        "    f = open(file_name)\n",
        "    data = f.read()\n",
        "    sentences = data.split('\\n\\n')\n",
        "    diseases = []\n",
        "    tags = []\n",
        "    sentence_id = []\n",
        "\n",
        "    \n",
        "    for sent in sentences:\n",
        "        try:\n",
        "            tokens = sent.split('\\n')\n",
        "            for token in tokens:\n",
        "                # print(token)\n",
        "                word,tag = token.split('\\t')\n",
        "                diseases.append(word)\n",
        "                tags.append(tag)\n",
        "                sentence_id.append(c)\n",
        "            c+=1\n",
        "        except:\n",
        "            pass\n",
        "    \n",
        "    df = pd.DataFrame(columns=['words','labels','sentence_id'])\n",
        "    df['words'] = diseases\n",
        "    df['labels'] = tags\n",
        "    df['sentence_id'] = sentence_id\n",
        "\n",
        "    return df"
      ],
      "metadata": {
        "id": "371J9KDhWfr0"
      },
      "execution_count": null,
      "outputs": []
    },
    {
      "cell_type": "code",
      "source": [
        "train_df1 = convert_format('/content/MTL-Bioinformatics-2016/data/BC5CDR-disease-IOB/train.tsv')\n",
        "train_df1.head(10)"
      ],
      "metadata": {
        "colab": {
          "base_uri": "https://localhost:8080/",
          "height": 363
        },
        "id": "Who7wN9uWtYj",
        "outputId": "80f6ebd0-d513-4dd7-eece-f2dcb72a5255"
      },
      "execution_count": null,
      "outputs": [
        {
          "output_type": "execute_result",
          "data": {
            "text/plain": [
              "         words     labels  sentence_id\n",
              "0   Selegiline          O            0\n",
              "1            -          O            0\n",
              "2      induced          O            0\n",
              "3     postural  B-Disease            0\n",
              "4  hypotension  I-Disease            0\n",
              "5           in          O            0\n",
              "6    Parkinson  B-Disease            0\n",
              "7            '  I-Disease            0\n",
              "8            s  I-Disease            0\n",
              "9      disease  I-Disease            0"
            ],
            "text/html": [
              "\n",
              "  <div id=\"df-da852137-7b21-4534-ad65-acb171d85cdf\">\n",
              "    <div class=\"colab-df-container\">\n",
              "      <div>\n",
              "<style scoped>\n",
              "    .dataframe tbody tr th:only-of-type {\n",
              "        vertical-align: middle;\n",
              "    }\n",
              "\n",
              "    .dataframe tbody tr th {\n",
              "        vertical-align: top;\n",
              "    }\n",
              "\n",
              "    .dataframe thead th {\n",
              "        text-align: right;\n",
              "    }\n",
              "</style>\n",
              "<table border=\"1\" class=\"dataframe\">\n",
              "  <thead>\n",
              "    <tr style=\"text-align: right;\">\n",
              "      <th></th>\n",
              "      <th>words</th>\n",
              "      <th>labels</th>\n",
              "      <th>sentence_id</th>\n",
              "    </tr>\n",
              "  </thead>\n",
              "  <tbody>\n",
              "    <tr>\n",
              "      <th>0</th>\n",
              "      <td>Selegiline</td>\n",
              "      <td>O</td>\n",
              "      <td>0</td>\n",
              "    </tr>\n",
              "    <tr>\n",
              "      <th>1</th>\n",
              "      <td>-</td>\n",
              "      <td>O</td>\n",
              "      <td>0</td>\n",
              "    </tr>\n",
              "    <tr>\n",
              "      <th>2</th>\n",
              "      <td>induced</td>\n",
              "      <td>O</td>\n",
              "      <td>0</td>\n",
              "    </tr>\n",
              "    <tr>\n",
              "      <th>3</th>\n",
              "      <td>postural</td>\n",
              "      <td>B-Disease</td>\n",
              "      <td>0</td>\n",
              "    </tr>\n",
              "    <tr>\n",
              "      <th>4</th>\n",
              "      <td>hypotension</td>\n",
              "      <td>I-Disease</td>\n",
              "      <td>0</td>\n",
              "    </tr>\n",
              "    <tr>\n",
              "      <th>5</th>\n",
              "      <td>in</td>\n",
              "      <td>O</td>\n",
              "      <td>0</td>\n",
              "    </tr>\n",
              "    <tr>\n",
              "      <th>6</th>\n",
              "      <td>Parkinson</td>\n",
              "      <td>B-Disease</td>\n",
              "      <td>0</td>\n",
              "    </tr>\n",
              "    <tr>\n",
              "      <th>7</th>\n",
              "      <td>'</td>\n",
              "      <td>I-Disease</td>\n",
              "      <td>0</td>\n",
              "    </tr>\n",
              "    <tr>\n",
              "      <th>8</th>\n",
              "      <td>s</td>\n",
              "      <td>I-Disease</td>\n",
              "      <td>0</td>\n",
              "    </tr>\n",
              "    <tr>\n",
              "      <th>9</th>\n",
              "      <td>disease</td>\n",
              "      <td>I-Disease</td>\n",
              "      <td>0</td>\n",
              "    </tr>\n",
              "  </tbody>\n",
              "</table>\n",
              "</div>\n",
              "      <button class=\"colab-df-convert\" onclick=\"convertToInteractive('df-da852137-7b21-4534-ad65-acb171d85cdf')\"\n",
              "              title=\"Convert this dataframe to an interactive table.\"\n",
              "              style=\"display:none;\">\n",
              "        \n",
              "  <svg xmlns=\"http://www.w3.org/2000/svg\" height=\"24px\"viewBox=\"0 0 24 24\"\n",
              "       width=\"24px\">\n",
              "    <path d=\"M0 0h24v24H0V0z\" fill=\"none\"/>\n",
              "    <path d=\"M18.56 5.44l.94 2.06.94-2.06 2.06-.94-2.06-.94-.94-2.06-.94 2.06-2.06.94zm-11 1L8.5 8.5l.94-2.06 2.06-.94-2.06-.94L8.5 2.5l-.94 2.06-2.06.94zm10 10l.94 2.06.94-2.06 2.06-.94-2.06-.94-.94-2.06-.94 2.06-2.06.94z\"/><path d=\"M17.41 7.96l-1.37-1.37c-.4-.4-.92-.59-1.43-.59-.52 0-1.04.2-1.43.59L10.3 9.45l-7.72 7.72c-.78.78-.78 2.05 0 2.83L4 21.41c.39.39.9.59 1.41.59.51 0 1.02-.2 1.41-.59l7.78-7.78 2.81-2.81c.8-.78.8-2.07 0-2.86zM5.41 20L4 18.59l7.72-7.72 1.47 1.35L5.41 20z\"/>\n",
              "  </svg>\n",
              "      </button>\n",
              "      \n",
              "  <style>\n",
              "    .colab-df-container {\n",
              "      display:flex;\n",
              "      flex-wrap:wrap;\n",
              "      gap: 12px;\n",
              "    }\n",
              "\n",
              "    .colab-df-convert {\n",
              "      background-color: #E8F0FE;\n",
              "      border: none;\n",
              "      border-radius: 50%;\n",
              "      cursor: pointer;\n",
              "      display: none;\n",
              "      fill: #1967D2;\n",
              "      height: 32px;\n",
              "      padding: 0 0 0 0;\n",
              "      width: 32px;\n",
              "    }\n",
              "\n",
              "    .colab-df-convert:hover {\n",
              "      background-color: #E2EBFA;\n",
              "      box-shadow: 0px 1px 2px rgba(60, 64, 67, 0.3), 0px 1px 3px 1px rgba(60, 64, 67, 0.15);\n",
              "      fill: #174EA6;\n",
              "    }\n",
              "\n",
              "    [theme=dark] .colab-df-convert {\n",
              "      background-color: #3B4455;\n",
              "      fill: #D2E3FC;\n",
              "    }\n",
              "\n",
              "    [theme=dark] .colab-df-convert:hover {\n",
              "      background-color: #434B5C;\n",
              "      box-shadow: 0px 1px 3px 1px rgba(0, 0, 0, 0.15);\n",
              "      filter: drop-shadow(0px 1px 2px rgba(0, 0, 0, 0.3));\n",
              "      fill: #FFFFFF;\n",
              "    }\n",
              "  </style>\n",
              "\n",
              "      <script>\n",
              "        const buttonEl =\n",
              "          document.querySelector('#df-da852137-7b21-4534-ad65-acb171d85cdf button.colab-df-convert');\n",
              "        buttonEl.style.display =\n",
              "          google.colab.kernel.accessAllowed ? 'block' : 'none';\n",
              "\n",
              "        async function convertToInteractive(key) {\n",
              "          const element = document.querySelector('#df-da852137-7b21-4534-ad65-acb171d85cdf');\n",
              "          const dataTable =\n",
              "            await google.colab.kernel.invokeFunction('convertToInteractive',\n",
              "                                                     [key], {});\n",
              "          if (!dataTable) return;\n",
              "\n",
              "          const docLinkHtml = 'Like what you see? Visit the ' +\n",
              "            '<a target=\"_blank\" href=https://colab.research.google.com/notebooks/data_table.ipynb>data table notebook</a>'\n",
              "            + ' to learn more about interactive tables.';\n",
              "          element.innerHTML = '';\n",
              "          dataTable['output_type'] = 'display_data';\n",
              "          await google.colab.output.renderOutput(dataTable, element);\n",
              "          const docLink = document.createElement('div');\n",
              "          docLink.innerHTML = docLinkHtml;\n",
              "          element.appendChild(docLink);\n",
              "        }\n",
              "      </script>\n",
              "    </div>\n",
              "  </div>\n",
              "  "
            ]
          },
          "metadata": {},
          "execution_count": 5
        }
      ]
    },
    {
      "cell_type": "code",
      "source": [
        "train_df1 = convert_format('/content/MTL-Bioinformatics-2016/data/BC5CDR-disease-IOB/train.tsv')\n",
        "dev_df1 = convert_format('/content/MTL-Bioinformatics-2016/data/BC5CDR-disease-IOB/devel.tsv')\n",
        "test_df1 = convert_format('/content/MTL-Bioinformatics-2016/data/BC5CDR-disease-IOB/test.tsv')\n",
        "\n",
        "train_df2 = convert_format('/content/MTL-Bioinformatics-2016/data/NCBI-disease-IOB/train.tsv')\n",
        "dev_df2 = convert_format('/content/MTL-Bioinformatics-2016/data/NCBI-disease-IOB/devel.tsv')\n",
        "test_df2 = convert_format('/content/MTL-Bioinformatics-2016/data/NCBI-disease-IOB/test.tsv')"
      ],
      "metadata": {
        "id": "MRXG0mUsVpw2"
      },
      "execution_count": null,
      "outputs": []
    },
    {
      "cell_type": "code",
      "source": [
        "train_df1.shape,dev_df1.shape,test_df1.shape"
      ],
      "metadata": {
        "colab": {
          "base_uri": "https://localhost:8080/"
        },
        "id": "COsuwlePY0uc",
        "outputId": "3a61a57d-b932-402d-a6c5-c1524dd18c1d"
      },
      "execution_count": null,
      "outputs": [
        {
          "output_type": "execute_result",
          "data": {
            "text/plain": [
              "((118170, 3), (117453, 3), (124750, 3))"
            ]
          },
          "metadata": {},
          "execution_count": 7
        }
      ]
    },
    {
      "cell_type": "code",
      "source": [
        "train_df2.shape,dev_df2.shape,test_df2.shape"
      ],
      "metadata": {
        "colab": {
          "base_uri": "https://localhost:8080/"
        },
        "id": "iASoR0a7Y4Zy",
        "outputId": "f4c824dc-faaa-44b6-9faa-48287b96734f"
      },
      "execution_count": null,
      "outputs": [
        {
          "output_type": "execute_result",
          "data": {
            "text/plain": [
              "((135701, 3), (23969, 3), (24497, 3))"
            ]
          },
          "metadata": {},
          "execution_count": 8
        }
      ]
    },
    {
      "cell_type": "code",
      "source": [
        "complete_final_df = pd.concat([train_df1,dev_df1,test_df1,train_df2,dev_df2,test_df2])"
      ],
      "metadata": {
        "id": "DpG6ennzY8sC"
      },
      "execution_count": null,
      "outputs": []
    },
    {
      "cell_type": "code",
      "source": [
        "train_df3 = convert_format('/content/MTL-Bioinformatics-2016/data/BC4CHEMD/train.tsv')\n",
        "dev_df3 = convert_format('/content/MTL-Bioinformatics-2016/data/BC4CHEMD/devel.tsv')\n",
        "test_df3 = convert_format('/content/MTL-Bioinformatics-2016/data/BC4CHEMD/test.tsv')\n",
        "\n",
        "train_df4 = convert_format('/content/MTL-Bioinformatics-2016/data/BC5CDR-IOB/train.tsv')\n",
        "dev_df4 = convert_format('/content/MTL-Bioinformatics-2016/data/BC5CDR-IOB/devel.tsv')\n",
        "test_df4 = convert_format('/content/MTL-Bioinformatics-2016/data/BC5CDR-IOB/test.tsv')"
      ],
      "metadata": {
        "id": "YHuGIeqHb5hn"
      },
      "execution_count": null,
      "outputs": []
    },
    {
      "cell_type": "code",
      "source": [
        "train_df3['labels'].value_counts()"
      ],
      "metadata": {
        "colab": {
          "base_uri": "https://localhost:8080/"
        },
        "id": "b5zdLBTZPqLd",
        "outputId": "2b77bd15-3a4b-4a0c-a44f-38d811386854"
      },
      "execution_count": null,
      "outputs": [
        {
          "output_type": "execute_result",
          "data": {
            "text/plain": [
              "O             826726\n",
              "I-Chemical     35744\n",
              "B-Chemical     29478\n",
              "Name: labels, dtype: int64"
            ]
          },
          "metadata": {},
          "execution_count": 30
        }
      ]
    },
    {
      "cell_type": "code",
      "source": [
        "train_df4['labels'].value_counts()"
      ],
      "metadata": {
        "colab": {
          "base_uri": "https://localhost:8080/"
        },
        "id": "PagGS7NkPuAE",
        "outputId": "9236f552-8ff7-4d55-fbe7-c7e179142cda"
      },
      "execution_count": null,
      "outputs": [
        {
          "output_type": "execute_result",
          "data": {
            "text/plain": [
              "O             103967\n",
              "B-Chemical      5203\n",
              "B-Disease       4182\n",
              "I-Disease       2918\n",
              "I-Chemical      1900\n",
              "Name: labels, dtype: int64"
            ]
          },
          "metadata": {},
          "execution_count": 31
        }
      ]
    },
    {
      "cell_type": "code",
      "source": [
        "train_df3_4 = pd.concat([train_df3,dev_df3,test_df3,train_df4,dev_df4,test_df4])"
      ],
      "metadata": {
        "id": "_ReBBWTaTlew"
      },
      "execution_count": null,
      "outputs": []
    },
    {
      "cell_type": "code",
      "source": [
        "from tqdm import tqdm"
      ],
      "metadata": {
        "id": "2lqYxGU2XANG"
      },
      "execution_count": null,
      "outputs": []
    },
    {
      "cell_type": "code",
      "source": [
        "sents_without_entities = []\n",
        "for sent_id in tqdm(train_df3_4['sentence_id'].unique()):\n",
        "    mini_df = train_df3_4[train_df3_4['sentence_id']==sent_id]\n",
        "    labels = mini_df['labels'].to_list()\n",
        "    if len(labels)==labels.count('O'):\n",
        "        sents_without_entities.append(sent_id)"
      ],
      "metadata": {
        "colab": {
          "base_uri": "https://localhost:8080/"
        },
        "id": "0RSmVNFkSi1z",
        "outputId": "24a652af-9d09-4b3a-b534-25174a4ec7ef"
      },
      "execution_count": null,
      "outputs": [
        {
          "output_type": "stream",
          "name": "stderr",
          "text": [
            "100%|██████████| 101623/101623 [09:10<00:00, 184.74it/s]\n"
          ]
        }
      ]
    },
    {
      "cell_type": "code",
      "source": [
        "len(sents_without_entities)"
      ],
      "metadata": {
        "colab": {
          "base_uri": "https://localhost:8080/"
        },
        "id": "FCWFOxDQZl_z",
        "outputId": "91c1b38a-917f-460f-e9c3-6f6c54d0b88c"
      },
      "execution_count": null,
      "outputs": [
        {
          "output_type": "execute_result",
          "data": {
            "text/plain": [
              "48530"
            ]
          },
          "metadata": {},
          "execution_count": 39
        }
      ]
    },
    {
      "cell_type": "code",
      "source": [
        "len(train_df3_4['sentence_id'].unique())"
      ],
      "metadata": {
        "colab": {
          "base_uri": "https://localhost:8080/"
        },
        "id": "PCM_gibbZrQ0",
        "outputId": "351541c6-95d8-44a7-9c9b-9b59ab2bfe95"
      },
      "execution_count": null,
      "outputs": [
        {
          "output_type": "execute_result",
          "data": {
            "text/plain": [
              "101623"
            ]
          },
          "metadata": {},
          "execution_count": 40
        }
      ]
    },
    {
      "cell_type": "code",
      "source": [
        "filtered_df = train_df3_4[~train_df3_4.sentence_id.isin(sents_without_entities)]"
      ],
      "metadata": {
        "id": "S4yuuFDAZvsU"
      },
      "execution_count": null,
      "outputs": []
    },
    {
      "cell_type": "code",
      "source": [
        "filtered_df.head()"
      ],
      "metadata": {
        "colab": {
          "base_uri": "https://localhost:8080/",
          "height": 206
        },
        "id": "4hr5vODiZ85r",
        "outputId": "7b19353e-8e6f-4e02-cbb1-316421352f4d"
      },
      "execution_count": null,
      "outputs": [
        {
          "output_type": "execute_result",
          "data": {
            "text/plain": [
              "              words      labels  sentence_id\n",
              "195         Chronic           O        25791\n",
              "196  administration           O        25791\n",
              "197              of           O        25791\n",
              "198     haloperidol  B-Chemical        25791\n",
              "199       increased           O        25791"
            ],
            "text/html": [
              "\n",
              "  <div id=\"df-98753351-c8f8-402c-9d4f-a2639d390b06\">\n",
              "    <div class=\"colab-df-container\">\n",
              "      <div>\n",
              "<style scoped>\n",
              "    .dataframe tbody tr th:only-of-type {\n",
              "        vertical-align: middle;\n",
              "    }\n",
              "\n",
              "    .dataframe tbody tr th {\n",
              "        vertical-align: top;\n",
              "    }\n",
              "\n",
              "    .dataframe thead th {\n",
              "        text-align: right;\n",
              "    }\n",
              "</style>\n",
              "<table border=\"1\" class=\"dataframe\">\n",
              "  <thead>\n",
              "    <tr style=\"text-align: right;\">\n",
              "      <th></th>\n",
              "      <th>words</th>\n",
              "      <th>labels</th>\n",
              "      <th>sentence_id</th>\n",
              "    </tr>\n",
              "  </thead>\n",
              "  <tbody>\n",
              "    <tr>\n",
              "      <th>195</th>\n",
              "      <td>Chronic</td>\n",
              "      <td>O</td>\n",
              "      <td>25791</td>\n",
              "    </tr>\n",
              "    <tr>\n",
              "      <th>196</th>\n",
              "      <td>administration</td>\n",
              "      <td>O</td>\n",
              "      <td>25791</td>\n",
              "    </tr>\n",
              "    <tr>\n",
              "      <th>197</th>\n",
              "      <td>of</td>\n",
              "      <td>O</td>\n",
              "      <td>25791</td>\n",
              "    </tr>\n",
              "    <tr>\n",
              "      <th>198</th>\n",
              "      <td>haloperidol</td>\n",
              "      <td>B-Chemical</td>\n",
              "      <td>25791</td>\n",
              "    </tr>\n",
              "    <tr>\n",
              "      <th>199</th>\n",
              "      <td>increased</td>\n",
              "      <td>O</td>\n",
              "      <td>25791</td>\n",
              "    </tr>\n",
              "  </tbody>\n",
              "</table>\n",
              "</div>\n",
              "      <button class=\"colab-df-convert\" onclick=\"convertToInteractive('df-98753351-c8f8-402c-9d4f-a2639d390b06')\"\n",
              "              title=\"Convert this dataframe to an interactive table.\"\n",
              "              style=\"display:none;\">\n",
              "        \n",
              "  <svg xmlns=\"http://www.w3.org/2000/svg\" height=\"24px\"viewBox=\"0 0 24 24\"\n",
              "       width=\"24px\">\n",
              "    <path d=\"M0 0h24v24H0V0z\" fill=\"none\"/>\n",
              "    <path d=\"M18.56 5.44l.94 2.06.94-2.06 2.06-.94-2.06-.94-.94-2.06-.94 2.06-2.06.94zm-11 1L8.5 8.5l.94-2.06 2.06-.94-2.06-.94L8.5 2.5l-.94 2.06-2.06.94zm10 10l.94 2.06.94-2.06 2.06-.94-2.06-.94-.94-2.06-.94 2.06-2.06.94z\"/><path d=\"M17.41 7.96l-1.37-1.37c-.4-.4-.92-.59-1.43-.59-.52 0-1.04.2-1.43.59L10.3 9.45l-7.72 7.72c-.78.78-.78 2.05 0 2.83L4 21.41c.39.39.9.59 1.41.59.51 0 1.02-.2 1.41-.59l7.78-7.78 2.81-2.81c.8-.78.8-2.07 0-2.86zM5.41 20L4 18.59l7.72-7.72 1.47 1.35L5.41 20z\"/>\n",
              "  </svg>\n",
              "      </button>\n",
              "      \n",
              "  <style>\n",
              "    .colab-df-container {\n",
              "      display:flex;\n",
              "      flex-wrap:wrap;\n",
              "      gap: 12px;\n",
              "    }\n",
              "\n",
              "    .colab-df-convert {\n",
              "      background-color: #E8F0FE;\n",
              "      border: none;\n",
              "      border-radius: 50%;\n",
              "      cursor: pointer;\n",
              "      display: none;\n",
              "      fill: #1967D2;\n",
              "      height: 32px;\n",
              "      padding: 0 0 0 0;\n",
              "      width: 32px;\n",
              "    }\n",
              "\n",
              "    .colab-df-convert:hover {\n",
              "      background-color: #E2EBFA;\n",
              "      box-shadow: 0px 1px 2px rgba(60, 64, 67, 0.3), 0px 1px 3px 1px rgba(60, 64, 67, 0.15);\n",
              "      fill: #174EA6;\n",
              "    }\n",
              "\n",
              "    [theme=dark] .colab-df-convert {\n",
              "      background-color: #3B4455;\n",
              "      fill: #D2E3FC;\n",
              "    }\n",
              "\n",
              "    [theme=dark] .colab-df-convert:hover {\n",
              "      background-color: #434B5C;\n",
              "      box-shadow: 0px 1px 3px 1px rgba(0, 0, 0, 0.15);\n",
              "      filter: drop-shadow(0px 1px 2px rgba(0, 0, 0, 0.3));\n",
              "      fill: #FFFFFF;\n",
              "    }\n",
              "  </style>\n",
              "\n",
              "      <script>\n",
              "        const buttonEl =\n",
              "          document.querySelector('#df-98753351-c8f8-402c-9d4f-a2639d390b06 button.colab-df-convert');\n",
              "        buttonEl.style.display =\n",
              "          google.colab.kernel.accessAllowed ? 'block' : 'none';\n",
              "\n",
              "        async function convertToInteractive(key) {\n",
              "          const element = document.querySelector('#df-98753351-c8f8-402c-9d4f-a2639d390b06');\n",
              "          const dataTable =\n",
              "            await google.colab.kernel.invokeFunction('convertToInteractive',\n",
              "                                                     [key], {});\n",
              "          if (!dataTable) return;\n",
              "\n",
              "          const docLinkHtml = 'Like what you see? Visit the ' +\n",
              "            '<a target=\"_blank\" href=https://colab.research.google.com/notebooks/data_table.ipynb>data table notebook</a>'\n",
              "            + ' to learn more about interactive tables.';\n",
              "          element.innerHTML = '';\n",
              "          dataTable['output_type'] = 'display_data';\n",
              "          await google.colab.output.renderOutput(dataTable, element);\n",
              "          const docLink = document.createElement('div');\n",
              "          docLink.innerHTML = docLinkHtml;\n",
              "          element.appendChild(docLink);\n",
              "        }\n",
              "      </script>\n",
              "    </div>\n",
              "  </div>\n",
              "  "
            ]
          },
          "metadata": {},
          "execution_count": 42
        }
      ]
    },
    {
      "cell_type": "code",
      "source": [
        "complete_final_df.shape,filtered_df.shape"
      ],
      "metadata": {
        "colab": {
          "base_uri": "https://localhost:8080/"
        },
        "id": "l2g3F7yoaaVi",
        "outputId": "e98bb0c8-ba4c-4aca-917d-067bc5bfe9e7"
      },
      "execution_count": null,
      "outputs": [
        {
          "output_type": "execute_result",
          "data": {
            "text/plain": [
              "((544540, 3), (1659732, 3))"
            ]
          },
          "metadata": {},
          "execution_count": 43
        }
      ]
    },
    {
      "cell_type": "code",
      "source": [
        "complete_final_df = pd.concat([complete_final_df,filtered_df])"
      ],
      "metadata": {
        "id": "E6YpY2UyaWfm"
      },
      "execution_count": null,
      "outputs": []
    },
    {
      "cell_type": "code",
      "source": [
        "complete_final_df.shape"
      ],
      "metadata": {
        "colab": {
          "base_uri": "https://localhost:8080/"
        },
        "id": "9DwoTD9aaWdD",
        "outputId": "c1ff943e-07f7-440b-851d-fd0ce77c73ed"
      },
      "execution_count": null,
      "outputs": [
        {
          "output_type": "execute_result",
          "data": {
            "text/plain": [
              "(2204272, 3)"
            ]
          },
          "metadata": {},
          "execution_count": 45
        }
      ]
    },
    {
      "cell_type": "code",
      "source": [
        "complete_final_df.isna().sum()"
      ],
      "metadata": {
        "colab": {
          "base_uri": "https://localhost:8080/"
        },
        "id": "SocV23Gmaki6",
        "outputId": "8e1c95b9-bd9a-404e-9780-74bc954caf43"
      },
      "execution_count": null,
      "outputs": [
        {
          "output_type": "execute_result",
          "data": {
            "text/plain": [
              "words          0\n",
              "labels         0\n",
              "sentence_id    0\n",
              "dtype: int64"
            ]
          },
          "metadata": {},
          "execution_count": 46
        }
      ]
    },
    {
      "cell_type": "code",
      "source": [],
      "metadata": {
        "id": "i83K2yevakaa"
      },
      "execution_count": null,
      "outputs": []
    },
    {
      "cell_type": "code",
      "source": [],
      "metadata": {
        "id": "---798EhaWaq"
      },
      "execution_count": null,
      "outputs": []
    },
    {
      "cell_type": "code",
      "source": [],
      "metadata": {
        "id": "e1YDsakrZM9g"
      },
      "execution_count": null,
      "outputs": []
    },
    {
      "cell_type": "code",
      "source": [
        "complete_final_df.head()"
      ],
      "metadata": {
        "colab": {
          "base_uri": "https://localhost:8080/",
          "height": 206
        },
        "id": "I_G_hlIWZOix",
        "outputId": "00e83550-0c5e-40c3-bd20-045007fa56e0"
      },
      "execution_count": null,
      "outputs": [
        {
          "output_type": "execute_result",
          "data": {
            "text/plain": [
              "         words     labels  sentence_id\n",
              "0   Selegiline          O         4560\n",
              "1            -          O         4560\n",
              "2      induced          O         4560\n",
              "3     postural  B-Disease         4560\n",
              "4  hypotension  I-Disease         4560"
            ],
            "text/html": [
              "\n",
              "  <div id=\"df-941d2a13-25c1-4c9b-bdfd-9a8b993da13e\">\n",
              "    <div class=\"colab-df-container\">\n",
              "      <div>\n",
              "<style scoped>\n",
              "    .dataframe tbody tr th:only-of-type {\n",
              "        vertical-align: middle;\n",
              "    }\n",
              "\n",
              "    .dataframe tbody tr th {\n",
              "        vertical-align: top;\n",
              "    }\n",
              "\n",
              "    .dataframe thead th {\n",
              "        text-align: right;\n",
              "    }\n",
              "</style>\n",
              "<table border=\"1\" class=\"dataframe\">\n",
              "  <thead>\n",
              "    <tr style=\"text-align: right;\">\n",
              "      <th></th>\n",
              "      <th>words</th>\n",
              "      <th>labels</th>\n",
              "      <th>sentence_id</th>\n",
              "    </tr>\n",
              "  </thead>\n",
              "  <tbody>\n",
              "    <tr>\n",
              "      <th>0</th>\n",
              "      <td>Selegiline</td>\n",
              "      <td>O</td>\n",
              "      <td>4560</td>\n",
              "    </tr>\n",
              "    <tr>\n",
              "      <th>1</th>\n",
              "      <td>-</td>\n",
              "      <td>O</td>\n",
              "      <td>4560</td>\n",
              "    </tr>\n",
              "    <tr>\n",
              "      <th>2</th>\n",
              "      <td>induced</td>\n",
              "      <td>O</td>\n",
              "      <td>4560</td>\n",
              "    </tr>\n",
              "    <tr>\n",
              "      <th>3</th>\n",
              "      <td>postural</td>\n",
              "      <td>B-Disease</td>\n",
              "      <td>4560</td>\n",
              "    </tr>\n",
              "    <tr>\n",
              "      <th>4</th>\n",
              "      <td>hypotension</td>\n",
              "      <td>I-Disease</td>\n",
              "      <td>4560</td>\n",
              "    </tr>\n",
              "  </tbody>\n",
              "</table>\n",
              "</div>\n",
              "      <button class=\"colab-df-convert\" onclick=\"convertToInteractive('df-941d2a13-25c1-4c9b-bdfd-9a8b993da13e')\"\n",
              "              title=\"Convert this dataframe to an interactive table.\"\n",
              "              style=\"display:none;\">\n",
              "        \n",
              "  <svg xmlns=\"http://www.w3.org/2000/svg\" height=\"24px\"viewBox=\"0 0 24 24\"\n",
              "       width=\"24px\">\n",
              "    <path d=\"M0 0h24v24H0V0z\" fill=\"none\"/>\n",
              "    <path d=\"M18.56 5.44l.94 2.06.94-2.06 2.06-.94-2.06-.94-.94-2.06-.94 2.06-2.06.94zm-11 1L8.5 8.5l.94-2.06 2.06-.94-2.06-.94L8.5 2.5l-.94 2.06-2.06.94zm10 10l.94 2.06.94-2.06 2.06-.94-2.06-.94-.94-2.06-.94 2.06-2.06.94z\"/><path d=\"M17.41 7.96l-1.37-1.37c-.4-.4-.92-.59-1.43-.59-.52 0-1.04.2-1.43.59L10.3 9.45l-7.72 7.72c-.78.78-.78 2.05 0 2.83L4 21.41c.39.39.9.59 1.41.59.51 0 1.02-.2 1.41-.59l7.78-7.78 2.81-2.81c.8-.78.8-2.07 0-2.86zM5.41 20L4 18.59l7.72-7.72 1.47 1.35L5.41 20z\"/>\n",
              "  </svg>\n",
              "      </button>\n",
              "      \n",
              "  <style>\n",
              "    .colab-df-container {\n",
              "      display:flex;\n",
              "      flex-wrap:wrap;\n",
              "      gap: 12px;\n",
              "    }\n",
              "\n",
              "    .colab-df-convert {\n",
              "      background-color: #E8F0FE;\n",
              "      border: none;\n",
              "      border-radius: 50%;\n",
              "      cursor: pointer;\n",
              "      display: none;\n",
              "      fill: #1967D2;\n",
              "      height: 32px;\n",
              "      padding: 0 0 0 0;\n",
              "      width: 32px;\n",
              "    }\n",
              "\n",
              "    .colab-df-convert:hover {\n",
              "      background-color: #E2EBFA;\n",
              "      box-shadow: 0px 1px 2px rgba(60, 64, 67, 0.3), 0px 1px 3px 1px rgba(60, 64, 67, 0.15);\n",
              "      fill: #174EA6;\n",
              "    }\n",
              "\n",
              "    [theme=dark] .colab-df-convert {\n",
              "      background-color: #3B4455;\n",
              "      fill: #D2E3FC;\n",
              "    }\n",
              "\n",
              "    [theme=dark] .colab-df-convert:hover {\n",
              "      background-color: #434B5C;\n",
              "      box-shadow: 0px 1px 3px 1px rgba(0, 0, 0, 0.15);\n",
              "      filter: drop-shadow(0px 1px 2px rgba(0, 0, 0, 0.3));\n",
              "      fill: #FFFFFF;\n",
              "    }\n",
              "  </style>\n",
              "\n",
              "      <script>\n",
              "        const buttonEl =\n",
              "          document.querySelector('#df-941d2a13-25c1-4c9b-bdfd-9a8b993da13e button.colab-df-convert');\n",
              "        buttonEl.style.display =\n",
              "          google.colab.kernel.accessAllowed ? 'block' : 'none';\n",
              "\n",
              "        async function convertToInteractive(key) {\n",
              "          const element = document.querySelector('#df-941d2a13-25c1-4c9b-bdfd-9a8b993da13e');\n",
              "          const dataTable =\n",
              "            await google.colab.kernel.invokeFunction('convertToInteractive',\n",
              "                                                     [key], {});\n",
              "          if (!dataTable) return;\n",
              "\n",
              "          const docLinkHtml = 'Like what you see? Visit the ' +\n",
              "            '<a target=\"_blank\" href=https://colab.research.google.com/notebooks/data_table.ipynb>data table notebook</a>'\n",
              "            + ' to learn more about interactive tables.';\n",
              "          element.innerHTML = '';\n",
              "          dataTable['output_type'] = 'display_data';\n",
              "          await google.colab.output.renderOutput(dataTable, element);\n",
              "          const docLink = document.createElement('div');\n",
              "          docLink.innerHTML = docLinkHtml;\n",
              "          element.appendChild(docLink);\n",
              "        }\n",
              "      </script>\n",
              "    </div>\n",
              "  </div>\n",
              "  "
            ]
          },
          "metadata": {},
          "execution_count": 47
        }
      ]
    },
    {
      "cell_type": "code",
      "source": [
        "complete_final_df['labels'].unique()"
      ],
      "metadata": {
        "colab": {
          "base_uri": "https://localhost:8080/"
        },
        "id": "5Sjeujf0ZQJ6",
        "outputId": "090cefea-058b-4655-a32e-01163e7565c1"
      },
      "execution_count": null,
      "outputs": [
        {
          "output_type": "execute_result",
          "data": {
            "text/plain": [
              "array(['O', 'B-Disease', 'I-Disease', 'B-Chemical', 'I-Chemical'],\n",
              "      dtype=object)"
            ]
          },
          "metadata": {},
          "execution_count": 48
        }
      ]
    },
    {
      "cell_type": "code",
      "source": [
        "all_ids = list(complete_final_df['sentence_id'].unique())"
      ],
      "metadata": {
        "id": "bojCVfzAZVPy"
      },
      "execution_count": null,
      "outputs": []
    },
    {
      "cell_type": "code",
      "source": [
        "total = len(all_ids)"
      ],
      "metadata": {
        "id": "qK9zvUcQZisZ"
      },
      "execution_count": null,
      "outputs": []
    },
    {
      "cell_type": "code",
      "source": [
        "import random"
      ],
      "metadata": {
        "id": "k6uHCLf0ZcwJ"
      },
      "execution_count": null,
      "outputs": []
    },
    {
      "cell_type": "code",
      "source": [
        "\n",
        "valid_count = int(total*0.1)\n",
        "test_count = int(total*0.15)\n",
        "train_count = total-valid_count-test_count"
      ],
      "metadata": {
        "id": "xGebFIx3Z83I"
      },
      "execution_count": null,
      "outputs": []
    },
    {
      "cell_type": "code",
      "source": [
        "test_stu_ids = random.sample(all_ids,test_count)"
      ],
      "metadata": {
        "id": "lZDD_aagZeap"
      },
      "execution_count": null,
      "outputs": []
    },
    {
      "cell_type": "code",
      "source": [
        "valid_stu_ids = random.sample(set(all_ids)-set(test_stu_ids),valid_count)"
      ],
      "metadata": {
        "id": "pJj40mtWaVGB"
      },
      "execution_count": null,
      "outputs": []
    },
    {
      "cell_type": "code",
      "source": [
        "train_stu_ids = set(all_ids)-set(test_stu_ids)-set(valid_stu_ids)"
      ],
      "metadata": {
        "id": "6xE9CvtbabwZ"
      },
      "execution_count": null,
      "outputs": []
    },
    {
      "cell_type": "code",
      "source": [
        "len(train_stu_ids),len(valid_stu_ids),len(test_stu_ids)"
      ],
      "metadata": {
        "colab": {
          "base_uri": "https://localhost:8080/"
        },
        "id": "CTXtsSdNbDh3",
        "outputId": "49188e0a-3c3f-41ee-cec0-db7afc3bd361"
      },
      "execution_count": null,
      "outputs": [
        {
          "output_type": "execute_result",
          "data": {
            "text/plain": [
              "(55740, 7431, 11147)"
            ]
          },
          "metadata": {},
          "execution_count": 56
        }
      ]
    },
    {
      "cell_type": "code",
      "source": [
        "train_df = complete_final_df[complete_final_df.sentence_id.isin(train_stu_ids)]\n",
        "valid_df = complete_final_df[complete_final_df.sentence_id.isin(valid_stu_ids)]\n",
        "test_df = complete_final_df[complete_final_df.sentence_id.isin(test_stu_ids)]"
      ],
      "metadata": {
        "id": "9hpGLEidbIoI"
      },
      "execution_count": null,
      "outputs": []
    },
    {
      "cell_type": "code",
      "source": [
        "train_df.head(10)"
      ],
      "metadata": {
        "colab": {
          "base_uri": "https://localhost:8080/",
          "height": 363
        },
        "id": "cFrJOzq6bXt4",
        "outputId": "3c83eecd-6ae3-4eaa-ec59-2b2a60f1d998"
      },
      "execution_count": null,
      "outputs": [
        {
          "output_type": "execute_result",
          "data": {
            "text/plain": [
              "         words     labels  sentence_id\n",
              "0   Selegiline          O         4560\n",
              "1            -          O         4560\n",
              "2      induced          O         4560\n",
              "3     postural  B-Disease         4560\n",
              "4  hypotension  I-Disease         4560\n",
              "5           in          O         4560\n",
              "6    Parkinson  B-Disease         4560\n",
              "7            '  I-Disease         4560\n",
              "8            s  I-Disease         4560\n",
              "9      disease  I-Disease         4560"
            ],
            "text/html": [
              "\n",
              "  <div id=\"df-82511460-f7c9-41fc-878c-46533c95af63\">\n",
              "    <div class=\"colab-df-container\">\n",
              "      <div>\n",
              "<style scoped>\n",
              "    .dataframe tbody tr th:only-of-type {\n",
              "        vertical-align: middle;\n",
              "    }\n",
              "\n",
              "    .dataframe tbody tr th {\n",
              "        vertical-align: top;\n",
              "    }\n",
              "\n",
              "    .dataframe thead th {\n",
              "        text-align: right;\n",
              "    }\n",
              "</style>\n",
              "<table border=\"1\" class=\"dataframe\">\n",
              "  <thead>\n",
              "    <tr style=\"text-align: right;\">\n",
              "      <th></th>\n",
              "      <th>words</th>\n",
              "      <th>labels</th>\n",
              "      <th>sentence_id</th>\n",
              "    </tr>\n",
              "  </thead>\n",
              "  <tbody>\n",
              "    <tr>\n",
              "      <th>0</th>\n",
              "      <td>Selegiline</td>\n",
              "      <td>O</td>\n",
              "      <td>4560</td>\n",
              "    </tr>\n",
              "    <tr>\n",
              "      <th>1</th>\n",
              "      <td>-</td>\n",
              "      <td>O</td>\n",
              "      <td>4560</td>\n",
              "    </tr>\n",
              "    <tr>\n",
              "      <th>2</th>\n",
              "      <td>induced</td>\n",
              "      <td>O</td>\n",
              "      <td>4560</td>\n",
              "    </tr>\n",
              "    <tr>\n",
              "      <th>3</th>\n",
              "      <td>postural</td>\n",
              "      <td>B-Disease</td>\n",
              "      <td>4560</td>\n",
              "    </tr>\n",
              "    <tr>\n",
              "      <th>4</th>\n",
              "      <td>hypotension</td>\n",
              "      <td>I-Disease</td>\n",
              "      <td>4560</td>\n",
              "    </tr>\n",
              "    <tr>\n",
              "      <th>5</th>\n",
              "      <td>in</td>\n",
              "      <td>O</td>\n",
              "      <td>4560</td>\n",
              "    </tr>\n",
              "    <tr>\n",
              "      <th>6</th>\n",
              "      <td>Parkinson</td>\n",
              "      <td>B-Disease</td>\n",
              "      <td>4560</td>\n",
              "    </tr>\n",
              "    <tr>\n",
              "      <th>7</th>\n",
              "      <td>'</td>\n",
              "      <td>I-Disease</td>\n",
              "      <td>4560</td>\n",
              "    </tr>\n",
              "    <tr>\n",
              "      <th>8</th>\n",
              "      <td>s</td>\n",
              "      <td>I-Disease</td>\n",
              "      <td>4560</td>\n",
              "    </tr>\n",
              "    <tr>\n",
              "      <th>9</th>\n",
              "      <td>disease</td>\n",
              "      <td>I-Disease</td>\n",
              "      <td>4560</td>\n",
              "    </tr>\n",
              "  </tbody>\n",
              "</table>\n",
              "</div>\n",
              "      <button class=\"colab-df-convert\" onclick=\"convertToInteractive('df-82511460-f7c9-41fc-878c-46533c95af63')\"\n",
              "              title=\"Convert this dataframe to an interactive table.\"\n",
              "              style=\"display:none;\">\n",
              "        \n",
              "  <svg xmlns=\"http://www.w3.org/2000/svg\" height=\"24px\"viewBox=\"0 0 24 24\"\n",
              "       width=\"24px\">\n",
              "    <path d=\"M0 0h24v24H0V0z\" fill=\"none\"/>\n",
              "    <path d=\"M18.56 5.44l.94 2.06.94-2.06 2.06-.94-2.06-.94-.94-2.06-.94 2.06-2.06.94zm-11 1L8.5 8.5l.94-2.06 2.06-.94-2.06-.94L8.5 2.5l-.94 2.06-2.06.94zm10 10l.94 2.06.94-2.06 2.06-.94-2.06-.94-.94-2.06-.94 2.06-2.06.94z\"/><path d=\"M17.41 7.96l-1.37-1.37c-.4-.4-.92-.59-1.43-.59-.52 0-1.04.2-1.43.59L10.3 9.45l-7.72 7.72c-.78.78-.78 2.05 0 2.83L4 21.41c.39.39.9.59 1.41.59.51 0 1.02-.2 1.41-.59l7.78-7.78 2.81-2.81c.8-.78.8-2.07 0-2.86zM5.41 20L4 18.59l7.72-7.72 1.47 1.35L5.41 20z\"/>\n",
              "  </svg>\n",
              "      </button>\n",
              "      \n",
              "  <style>\n",
              "    .colab-df-container {\n",
              "      display:flex;\n",
              "      flex-wrap:wrap;\n",
              "      gap: 12px;\n",
              "    }\n",
              "\n",
              "    .colab-df-convert {\n",
              "      background-color: #E8F0FE;\n",
              "      border: none;\n",
              "      border-radius: 50%;\n",
              "      cursor: pointer;\n",
              "      display: none;\n",
              "      fill: #1967D2;\n",
              "      height: 32px;\n",
              "      padding: 0 0 0 0;\n",
              "      width: 32px;\n",
              "    }\n",
              "\n",
              "    .colab-df-convert:hover {\n",
              "      background-color: #E2EBFA;\n",
              "      box-shadow: 0px 1px 2px rgba(60, 64, 67, 0.3), 0px 1px 3px 1px rgba(60, 64, 67, 0.15);\n",
              "      fill: #174EA6;\n",
              "    }\n",
              "\n",
              "    [theme=dark] .colab-df-convert {\n",
              "      background-color: #3B4455;\n",
              "      fill: #D2E3FC;\n",
              "    }\n",
              "\n",
              "    [theme=dark] .colab-df-convert:hover {\n",
              "      background-color: #434B5C;\n",
              "      box-shadow: 0px 1px 3px 1px rgba(0, 0, 0, 0.15);\n",
              "      filter: drop-shadow(0px 1px 2px rgba(0, 0, 0, 0.3));\n",
              "      fill: #FFFFFF;\n",
              "    }\n",
              "  </style>\n",
              "\n",
              "      <script>\n",
              "        const buttonEl =\n",
              "          document.querySelector('#df-82511460-f7c9-41fc-878c-46533c95af63 button.colab-df-convert');\n",
              "        buttonEl.style.display =\n",
              "          google.colab.kernel.accessAllowed ? 'block' : 'none';\n",
              "\n",
              "        async function convertToInteractive(key) {\n",
              "          const element = document.querySelector('#df-82511460-f7c9-41fc-878c-46533c95af63');\n",
              "          const dataTable =\n",
              "            await google.colab.kernel.invokeFunction('convertToInteractive',\n",
              "                                                     [key], {});\n",
              "          if (!dataTable) return;\n",
              "\n",
              "          const docLinkHtml = 'Like what you see? Visit the ' +\n",
              "            '<a target=\"_blank\" href=https://colab.research.google.com/notebooks/data_table.ipynb>data table notebook</a>'\n",
              "            + ' to learn more about interactive tables.';\n",
              "          element.innerHTML = '';\n",
              "          dataTable['output_type'] = 'display_data';\n",
              "          await google.colab.output.renderOutput(dataTable, element);\n",
              "          const docLink = document.createElement('div');\n",
              "          docLink.innerHTML = docLinkHtml;\n",
              "          element.appendChild(docLink);\n",
              "        }\n",
              "      </script>\n",
              "    </div>\n",
              "  </div>\n",
              "  "
            ]
          },
          "metadata": {},
          "execution_count": 58
        }
      ]
    },
    {
      "cell_type": "code",
      "source": [
        "valid_df.head(10)"
      ],
      "metadata": {
        "colab": {
          "base_uri": "https://localhost:8080/",
          "height": 363
        },
        "id": "6AxJxOHvbZWn",
        "outputId": "85249110-75de-4c1f-8bb2-7fb95494af89"
      },
      "execution_count": null,
      "outputs": [
        {
          "output_type": "execute_result",
          "data": {
            "text/plain": [
              "          words labels  sentence_id\n",
              "323     Further      O         4572\n",
              "324     studies      O         4572\n",
              "325          on      O         4572\n",
              "326     effects      O         4572\n",
              "327          of      O         4572\n",
              "328  irrigation      O         4572\n",
              "329   solutions      O         4572\n",
              "330          on      O         4572\n",
              "331         rat      O         4572\n",
              "332    bladders      O         4572"
            ],
            "text/html": [
              "\n",
              "  <div id=\"df-aa7b2cd1-ca35-4391-8252-5711559ae928\">\n",
              "    <div class=\"colab-df-container\">\n",
              "      <div>\n",
              "<style scoped>\n",
              "    .dataframe tbody tr th:only-of-type {\n",
              "        vertical-align: middle;\n",
              "    }\n",
              "\n",
              "    .dataframe tbody tr th {\n",
              "        vertical-align: top;\n",
              "    }\n",
              "\n",
              "    .dataframe thead th {\n",
              "        text-align: right;\n",
              "    }\n",
              "</style>\n",
              "<table border=\"1\" class=\"dataframe\">\n",
              "  <thead>\n",
              "    <tr style=\"text-align: right;\">\n",
              "      <th></th>\n",
              "      <th>words</th>\n",
              "      <th>labels</th>\n",
              "      <th>sentence_id</th>\n",
              "    </tr>\n",
              "  </thead>\n",
              "  <tbody>\n",
              "    <tr>\n",
              "      <th>323</th>\n",
              "      <td>Further</td>\n",
              "      <td>O</td>\n",
              "      <td>4572</td>\n",
              "    </tr>\n",
              "    <tr>\n",
              "      <th>324</th>\n",
              "      <td>studies</td>\n",
              "      <td>O</td>\n",
              "      <td>4572</td>\n",
              "    </tr>\n",
              "    <tr>\n",
              "      <th>325</th>\n",
              "      <td>on</td>\n",
              "      <td>O</td>\n",
              "      <td>4572</td>\n",
              "    </tr>\n",
              "    <tr>\n",
              "      <th>326</th>\n",
              "      <td>effects</td>\n",
              "      <td>O</td>\n",
              "      <td>4572</td>\n",
              "    </tr>\n",
              "    <tr>\n",
              "      <th>327</th>\n",
              "      <td>of</td>\n",
              "      <td>O</td>\n",
              "      <td>4572</td>\n",
              "    </tr>\n",
              "    <tr>\n",
              "      <th>328</th>\n",
              "      <td>irrigation</td>\n",
              "      <td>O</td>\n",
              "      <td>4572</td>\n",
              "    </tr>\n",
              "    <tr>\n",
              "      <th>329</th>\n",
              "      <td>solutions</td>\n",
              "      <td>O</td>\n",
              "      <td>4572</td>\n",
              "    </tr>\n",
              "    <tr>\n",
              "      <th>330</th>\n",
              "      <td>on</td>\n",
              "      <td>O</td>\n",
              "      <td>4572</td>\n",
              "    </tr>\n",
              "    <tr>\n",
              "      <th>331</th>\n",
              "      <td>rat</td>\n",
              "      <td>O</td>\n",
              "      <td>4572</td>\n",
              "    </tr>\n",
              "    <tr>\n",
              "      <th>332</th>\n",
              "      <td>bladders</td>\n",
              "      <td>O</td>\n",
              "      <td>4572</td>\n",
              "    </tr>\n",
              "  </tbody>\n",
              "</table>\n",
              "</div>\n",
              "      <button class=\"colab-df-convert\" onclick=\"convertToInteractive('df-aa7b2cd1-ca35-4391-8252-5711559ae928')\"\n",
              "              title=\"Convert this dataframe to an interactive table.\"\n",
              "              style=\"display:none;\">\n",
              "        \n",
              "  <svg xmlns=\"http://www.w3.org/2000/svg\" height=\"24px\"viewBox=\"0 0 24 24\"\n",
              "       width=\"24px\">\n",
              "    <path d=\"M0 0h24v24H0V0z\" fill=\"none\"/>\n",
              "    <path d=\"M18.56 5.44l.94 2.06.94-2.06 2.06-.94-2.06-.94-.94-2.06-.94 2.06-2.06.94zm-11 1L8.5 8.5l.94-2.06 2.06-.94-2.06-.94L8.5 2.5l-.94 2.06-2.06.94zm10 10l.94 2.06.94-2.06 2.06-.94-2.06-.94-.94-2.06-.94 2.06-2.06.94z\"/><path d=\"M17.41 7.96l-1.37-1.37c-.4-.4-.92-.59-1.43-.59-.52 0-1.04.2-1.43.59L10.3 9.45l-7.72 7.72c-.78.78-.78 2.05 0 2.83L4 21.41c.39.39.9.59 1.41.59.51 0 1.02-.2 1.41-.59l7.78-7.78 2.81-2.81c.8-.78.8-2.07 0-2.86zM5.41 20L4 18.59l7.72-7.72 1.47 1.35L5.41 20z\"/>\n",
              "  </svg>\n",
              "      </button>\n",
              "      \n",
              "  <style>\n",
              "    .colab-df-container {\n",
              "      display:flex;\n",
              "      flex-wrap:wrap;\n",
              "      gap: 12px;\n",
              "    }\n",
              "\n",
              "    .colab-df-convert {\n",
              "      background-color: #E8F0FE;\n",
              "      border: none;\n",
              "      border-radius: 50%;\n",
              "      cursor: pointer;\n",
              "      display: none;\n",
              "      fill: #1967D2;\n",
              "      height: 32px;\n",
              "      padding: 0 0 0 0;\n",
              "      width: 32px;\n",
              "    }\n",
              "\n",
              "    .colab-df-convert:hover {\n",
              "      background-color: #E2EBFA;\n",
              "      box-shadow: 0px 1px 2px rgba(60, 64, 67, 0.3), 0px 1px 3px 1px rgba(60, 64, 67, 0.15);\n",
              "      fill: #174EA6;\n",
              "    }\n",
              "\n",
              "    [theme=dark] .colab-df-convert {\n",
              "      background-color: #3B4455;\n",
              "      fill: #D2E3FC;\n",
              "    }\n",
              "\n",
              "    [theme=dark] .colab-df-convert:hover {\n",
              "      background-color: #434B5C;\n",
              "      box-shadow: 0px 1px 3px 1px rgba(0, 0, 0, 0.15);\n",
              "      filter: drop-shadow(0px 1px 2px rgba(0, 0, 0, 0.3));\n",
              "      fill: #FFFFFF;\n",
              "    }\n",
              "  </style>\n",
              "\n",
              "      <script>\n",
              "        const buttonEl =\n",
              "          document.querySelector('#df-aa7b2cd1-ca35-4391-8252-5711559ae928 button.colab-df-convert');\n",
              "        buttonEl.style.display =\n",
              "          google.colab.kernel.accessAllowed ? 'block' : 'none';\n",
              "\n",
              "        async function convertToInteractive(key) {\n",
              "          const element = document.querySelector('#df-aa7b2cd1-ca35-4391-8252-5711559ae928');\n",
              "          const dataTable =\n",
              "            await google.colab.kernel.invokeFunction('convertToInteractive',\n",
              "                                                     [key], {});\n",
              "          if (!dataTable) return;\n",
              "\n",
              "          const docLinkHtml = 'Like what you see? Visit the ' +\n",
              "            '<a target=\"_blank\" href=https://colab.research.google.com/notebooks/data_table.ipynb>data table notebook</a>'\n",
              "            + ' to learn more about interactive tables.';\n",
              "          element.innerHTML = '';\n",
              "          dataTable['output_type'] = 'display_data';\n",
              "          await google.colab.output.renderOutput(dataTable, element);\n",
              "          const docLink = document.createElement('div');\n",
              "          docLink.innerHTML = docLinkHtml;\n",
              "          element.appendChild(docLink);\n",
              "        }\n",
              "      </script>\n",
              "    </div>\n",
              "  </div>\n",
              "  "
            ]
          },
          "metadata": {},
          "execution_count": 59
        }
      ]
    },
    {
      "cell_type": "code",
      "source": [
        "test_df.head(10)"
      ],
      "metadata": {
        "colab": {
          "base_uri": "https://localhost:8080/",
          "height": 363
        },
        "id": "jWKt0tembcOw",
        "outputId": "bd3cc628-c44f-4a16-f642-e0974437b1f4"
      },
      "execution_count": null,
      "outputs": [
        {
          "output_type": "execute_result",
          "data": {
            "text/plain": [
              "           words     labels  sentence_id\n",
              "232  Orthostatic  B-Disease         4568\n",
              "233  hypotension  I-Disease         4568\n",
              "234          was          O         4568\n",
              "235  ameliorated          O         4568\n",
              "236            4          O         4568\n",
              "237         days          O         4568\n",
              "238        after          O         4568\n",
              "239   withdrawal          O         4568\n",
              "240           of          O         4568\n",
              "241   selegiline          O         4568"
            ],
            "text/html": [
              "\n",
              "  <div id=\"df-ed7cf18c-7509-497f-b37c-73e2836d1b64\">\n",
              "    <div class=\"colab-df-container\">\n",
              "      <div>\n",
              "<style scoped>\n",
              "    .dataframe tbody tr th:only-of-type {\n",
              "        vertical-align: middle;\n",
              "    }\n",
              "\n",
              "    .dataframe tbody tr th {\n",
              "        vertical-align: top;\n",
              "    }\n",
              "\n",
              "    .dataframe thead th {\n",
              "        text-align: right;\n",
              "    }\n",
              "</style>\n",
              "<table border=\"1\" class=\"dataframe\">\n",
              "  <thead>\n",
              "    <tr style=\"text-align: right;\">\n",
              "      <th></th>\n",
              "      <th>words</th>\n",
              "      <th>labels</th>\n",
              "      <th>sentence_id</th>\n",
              "    </tr>\n",
              "  </thead>\n",
              "  <tbody>\n",
              "    <tr>\n",
              "      <th>232</th>\n",
              "      <td>Orthostatic</td>\n",
              "      <td>B-Disease</td>\n",
              "      <td>4568</td>\n",
              "    </tr>\n",
              "    <tr>\n",
              "      <th>233</th>\n",
              "      <td>hypotension</td>\n",
              "      <td>I-Disease</td>\n",
              "      <td>4568</td>\n",
              "    </tr>\n",
              "    <tr>\n",
              "      <th>234</th>\n",
              "      <td>was</td>\n",
              "      <td>O</td>\n",
              "      <td>4568</td>\n",
              "    </tr>\n",
              "    <tr>\n",
              "      <th>235</th>\n",
              "      <td>ameliorated</td>\n",
              "      <td>O</td>\n",
              "      <td>4568</td>\n",
              "    </tr>\n",
              "    <tr>\n",
              "      <th>236</th>\n",
              "      <td>4</td>\n",
              "      <td>O</td>\n",
              "      <td>4568</td>\n",
              "    </tr>\n",
              "    <tr>\n",
              "      <th>237</th>\n",
              "      <td>days</td>\n",
              "      <td>O</td>\n",
              "      <td>4568</td>\n",
              "    </tr>\n",
              "    <tr>\n",
              "      <th>238</th>\n",
              "      <td>after</td>\n",
              "      <td>O</td>\n",
              "      <td>4568</td>\n",
              "    </tr>\n",
              "    <tr>\n",
              "      <th>239</th>\n",
              "      <td>withdrawal</td>\n",
              "      <td>O</td>\n",
              "      <td>4568</td>\n",
              "    </tr>\n",
              "    <tr>\n",
              "      <th>240</th>\n",
              "      <td>of</td>\n",
              "      <td>O</td>\n",
              "      <td>4568</td>\n",
              "    </tr>\n",
              "    <tr>\n",
              "      <th>241</th>\n",
              "      <td>selegiline</td>\n",
              "      <td>O</td>\n",
              "      <td>4568</td>\n",
              "    </tr>\n",
              "  </tbody>\n",
              "</table>\n",
              "</div>\n",
              "      <button class=\"colab-df-convert\" onclick=\"convertToInteractive('df-ed7cf18c-7509-497f-b37c-73e2836d1b64')\"\n",
              "              title=\"Convert this dataframe to an interactive table.\"\n",
              "              style=\"display:none;\">\n",
              "        \n",
              "  <svg xmlns=\"http://www.w3.org/2000/svg\" height=\"24px\"viewBox=\"0 0 24 24\"\n",
              "       width=\"24px\">\n",
              "    <path d=\"M0 0h24v24H0V0z\" fill=\"none\"/>\n",
              "    <path d=\"M18.56 5.44l.94 2.06.94-2.06 2.06-.94-2.06-.94-.94-2.06-.94 2.06-2.06.94zm-11 1L8.5 8.5l.94-2.06 2.06-.94-2.06-.94L8.5 2.5l-.94 2.06-2.06.94zm10 10l.94 2.06.94-2.06 2.06-.94-2.06-.94-.94-2.06-.94 2.06-2.06.94z\"/><path d=\"M17.41 7.96l-1.37-1.37c-.4-.4-.92-.59-1.43-.59-.52 0-1.04.2-1.43.59L10.3 9.45l-7.72 7.72c-.78.78-.78 2.05 0 2.83L4 21.41c.39.39.9.59 1.41.59.51 0 1.02-.2 1.41-.59l7.78-7.78 2.81-2.81c.8-.78.8-2.07 0-2.86zM5.41 20L4 18.59l7.72-7.72 1.47 1.35L5.41 20z\"/>\n",
              "  </svg>\n",
              "      </button>\n",
              "      \n",
              "  <style>\n",
              "    .colab-df-container {\n",
              "      display:flex;\n",
              "      flex-wrap:wrap;\n",
              "      gap: 12px;\n",
              "    }\n",
              "\n",
              "    .colab-df-convert {\n",
              "      background-color: #E8F0FE;\n",
              "      border: none;\n",
              "      border-radius: 50%;\n",
              "      cursor: pointer;\n",
              "      display: none;\n",
              "      fill: #1967D2;\n",
              "      height: 32px;\n",
              "      padding: 0 0 0 0;\n",
              "      width: 32px;\n",
              "    }\n",
              "\n",
              "    .colab-df-convert:hover {\n",
              "      background-color: #E2EBFA;\n",
              "      box-shadow: 0px 1px 2px rgba(60, 64, 67, 0.3), 0px 1px 3px 1px rgba(60, 64, 67, 0.15);\n",
              "      fill: #174EA6;\n",
              "    }\n",
              "\n",
              "    [theme=dark] .colab-df-convert {\n",
              "      background-color: #3B4455;\n",
              "      fill: #D2E3FC;\n",
              "    }\n",
              "\n",
              "    [theme=dark] .colab-df-convert:hover {\n",
              "      background-color: #434B5C;\n",
              "      box-shadow: 0px 1px 3px 1px rgba(0, 0, 0, 0.15);\n",
              "      filter: drop-shadow(0px 1px 2px rgba(0, 0, 0, 0.3));\n",
              "      fill: #FFFFFF;\n",
              "    }\n",
              "  </style>\n",
              "\n",
              "      <script>\n",
              "        const buttonEl =\n",
              "          document.querySelector('#df-ed7cf18c-7509-497f-b37c-73e2836d1b64 button.colab-df-convert');\n",
              "        buttonEl.style.display =\n",
              "          google.colab.kernel.accessAllowed ? 'block' : 'none';\n",
              "\n",
              "        async function convertToInteractive(key) {\n",
              "          const element = document.querySelector('#df-ed7cf18c-7509-497f-b37c-73e2836d1b64');\n",
              "          const dataTable =\n",
              "            await google.colab.kernel.invokeFunction('convertToInteractive',\n",
              "                                                     [key], {});\n",
              "          if (!dataTable) return;\n",
              "\n",
              "          const docLinkHtml = 'Like what you see? Visit the ' +\n",
              "            '<a target=\"_blank\" href=https://colab.research.google.com/notebooks/data_table.ipynb>data table notebook</a>'\n",
              "            + ' to learn more about interactive tables.';\n",
              "          element.innerHTML = '';\n",
              "          dataTable['output_type'] = 'display_data';\n",
              "          await google.colab.output.renderOutput(dataTable, element);\n",
              "          const docLink = document.createElement('div');\n",
              "          docLink.innerHTML = docLinkHtml;\n",
              "          element.appendChild(docLink);\n",
              "        }\n",
              "      </script>\n",
              "    </div>\n",
              "  </div>\n",
              "  "
            ]
          },
          "metadata": {},
          "execution_count": 60
        }
      ]
    },
    {
      "cell_type": "code",
      "source": [
        "train_df.to_csv('/content/drive/MyDrive/Project/combined_train_data.csv')\n",
        "test_df.to_csv('/content/drive/MyDrive/Project/combined_test_data.csv')\n",
        "valid_df.to_csv('/content/drive/MyDrive/Project/combined_valid_data.csv')"
      ],
      "metadata": {
        "id": "okb1JNKSbf8H"
      },
      "execution_count": null,
      "outputs": []
    },
    {
      "cell_type": "code",
      "source": [],
      "metadata": {
        "id": "ledR4SveOUva"
      },
      "execution_count": null,
      "outputs": []
    },
    {
      "cell_type": "code",
      "source": [
        "import pandas as pd"
      ],
      "metadata": {
        "id": "8fhhK0OyF6jb"
      },
      "execution_count": null,
      "outputs": []
    },
    {
      "cell_type": "code",
      "source": [
        "old_df = pd.read_csv('/content/drive/MyDrive/Project/combined_train_data.csv')"
      ],
      "metadata": {
        "id": "F2yWNbYMSWRz"
      },
      "execution_count": null,
      "outputs": []
    },
    {
      "cell_type": "code",
      "source": [
        "import pandas as pd"
      ],
      "metadata": {
        "id": "LOge9RrdF7i7"
      },
      "execution_count": null,
      "outputs": []
    },
    {
      "cell_type": "code",
      "source": [
        "df = pd.read_excel('/content/drive/MyDrive/Project/gpt-labelled.xlsx')"
      ],
      "metadata": {
        "id": "fh7Mmpu7GFVg"
      },
      "execution_count": null,
      "outputs": []
    },
    {
      "cell_type": "code",
      "source": [
        "df.head()"
      ],
      "metadata": {
        "colab": {
          "base_uri": "https://localhost:8080/",
          "height": 206
        },
        "id": "nBJz3FVWGIVJ",
        "outputId": "6b0f3462-f630-42ea-f811-92994b7382db"
      },
      "execution_count": null,
      "outputs": [
        {
          "output_type": "execute_result",
          "data": {
            "text/plain": [
              "                                                text  \\\n",
              "0   A 23-year-old white female presents with comp...   \n",
              "1           Consult for laparoscopic gastric bypass.   \n",
              "2                             2-D M-Mode. Doppler.     \n",
              "3                                 2-D Echocardiogram   \n",
              "4   Morbid obesity.  Laparoscopic antecolic anteg...   \n",
              "\n",
              "                           gpt-dis gpt-symp  \\\n",
              "0                    ['allergies']       []   \n",
              "1  ['laparoscopic gastric bypass']       []   \n",
              "2                               []       []   \n",
              "3                               []       []   \n",
              "4               ['Morbid obesity']       []   \n",
              "\n",
              "                                            gpt-drug  \n",
              "0                                                 []  \n",
              "1                                                 []  \n",
              "2                                                 []  \n",
              "3                                                 []  \n",
              "4  ['Laparoscopic antecolic antegastric Roux-en-Y...  "
            ],
            "text/html": [
              "\n",
              "  <div id=\"df-db886135-985b-41a6-b596-67b13c4f5590\">\n",
              "    <div class=\"colab-df-container\">\n",
              "      <div>\n",
              "<style scoped>\n",
              "    .dataframe tbody tr th:only-of-type {\n",
              "        vertical-align: middle;\n",
              "    }\n",
              "\n",
              "    .dataframe tbody tr th {\n",
              "        vertical-align: top;\n",
              "    }\n",
              "\n",
              "    .dataframe thead th {\n",
              "        text-align: right;\n",
              "    }\n",
              "</style>\n",
              "<table border=\"1\" class=\"dataframe\">\n",
              "  <thead>\n",
              "    <tr style=\"text-align: right;\">\n",
              "      <th></th>\n",
              "      <th>text</th>\n",
              "      <th>gpt-dis</th>\n",
              "      <th>gpt-symp</th>\n",
              "      <th>gpt-drug</th>\n",
              "    </tr>\n",
              "  </thead>\n",
              "  <tbody>\n",
              "    <tr>\n",
              "      <th>0</th>\n",
              "      <td>A 23-year-old white female presents with comp...</td>\n",
              "      <td>['allergies']</td>\n",
              "      <td>[]</td>\n",
              "      <td>[]</td>\n",
              "    </tr>\n",
              "    <tr>\n",
              "      <th>1</th>\n",
              "      <td>Consult for laparoscopic gastric bypass.</td>\n",
              "      <td>['laparoscopic gastric bypass']</td>\n",
              "      <td>[]</td>\n",
              "      <td>[]</td>\n",
              "    </tr>\n",
              "    <tr>\n",
              "      <th>2</th>\n",
              "      <td>2-D M-Mode. Doppler.</td>\n",
              "      <td>[]</td>\n",
              "      <td>[]</td>\n",
              "      <td>[]</td>\n",
              "    </tr>\n",
              "    <tr>\n",
              "      <th>3</th>\n",
              "      <td>2-D Echocardiogram</td>\n",
              "      <td>[]</td>\n",
              "      <td>[]</td>\n",
              "      <td>[]</td>\n",
              "    </tr>\n",
              "    <tr>\n",
              "      <th>4</th>\n",
              "      <td>Morbid obesity.  Laparoscopic antecolic anteg...</td>\n",
              "      <td>['Morbid obesity']</td>\n",
              "      <td>[]</td>\n",
              "      <td>['Laparoscopic antecolic antegastric Roux-en-Y...</td>\n",
              "    </tr>\n",
              "  </tbody>\n",
              "</table>\n",
              "</div>\n",
              "      <button class=\"colab-df-convert\" onclick=\"convertToInteractive('df-db886135-985b-41a6-b596-67b13c4f5590')\"\n",
              "              title=\"Convert this dataframe to an interactive table.\"\n",
              "              style=\"display:none;\">\n",
              "        \n",
              "  <svg xmlns=\"http://www.w3.org/2000/svg\" height=\"24px\"viewBox=\"0 0 24 24\"\n",
              "       width=\"24px\">\n",
              "    <path d=\"M0 0h24v24H0V0z\" fill=\"none\"/>\n",
              "    <path d=\"M18.56 5.44l.94 2.06.94-2.06 2.06-.94-2.06-.94-.94-2.06-.94 2.06-2.06.94zm-11 1L8.5 8.5l.94-2.06 2.06-.94-2.06-.94L8.5 2.5l-.94 2.06-2.06.94zm10 10l.94 2.06.94-2.06 2.06-.94-2.06-.94-.94-2.06-.94 2.06-2.06.94z\"/><path d=\"M17.41 7.96l-1.37-1.37c-.4-.4-.92-.59-1.43-.59-.52 0-1.04.2-1.43.59L10.3 9.45l-7.72 7.72c-.78.78-.78 2.05 0 2.83L4 21.41c.39.39.9.59 1.41.59.51 0 1.02-.2 1.41-.59l7.78-7.78 2.81-2.81c.8-.78.8-2.07 0-2.86zM5.41 20L4 18.59l7.72-7.72 1.47 1.35L5.41 20z\"/>\n",
              "  </svg>\n",
              "      </button>\n",
              "      \n",
              "  <style>\n",
              "    .colab-df-container {\n",
              "      display:flex;\n",
              "      flex-wrap:wrap;\n",
              "      gap: 12px;\n",
              "    }\n",
              "\n",
              "    .colab-df-convert {\n",
              "      background-color: #E8F0FE;\n",
              "      border: none;\n",
              "      border-radius: 50%;\n",
              "      cursor: pointer;\n",
              "      display: none;\n",
              "      fill: #1967D2;\n",
              "      height: 32px;\n",
              "      padding: 0 0 0 0;\n",
              "      width: 32px;\n",
              "    }\n",
              "\n",
              "    .colab-df-convert:hover {\n",
              "      background-color: #E2EBFA;\n",
              "      box-shadow: 0px 1px 2px rgba(60, 64, 67, 0.3), 0px 1px 3px 1px rgba(60, 64, 67, 0.15);\n",
              "      fill: #174EA6;\n",
              "    }\n",
              "\n",
              "    [theme=dark] .colab-df-convert {\n",
              "      background-color: #3B4455;\n",
              "      fill: #D2E3FC;\n",
              "    }\n",
              "\n",
              "    [theme=dark] .colab-df-convert:hover {\n",
              "      background-color: #434B5C;\n",
              "      box-shadow: 0px 1px 3px 1px rgba(0, 0, 0, 0.15);\n",
              "      filter: drop-shadow(0px 1px 2px rgba(0, 0, 0, 0.3));\n",
              "      fill: #FFFFFF;\n",
              "    }\n",
              "  </style>\n",
              "\n",
              "      <script>\n",
              "        const buttonEl =\n",
              "          document.querySelector('#df-db886135-985b-41a6-b596-67b13c4f5590 button.colab-df-convert');\n",
              "        buttonEl.style.display =\n",
              "          google.colab.kernel.accessAllowed ? 'block' : 'none';\n",
              "\n",
              "        async function convertToInteractive(key) {\n",
              "          const element = document.querySelector('#df-db886135-985b-41a6-b596-67b13c4f5590');\n",
              "          const dataTable =\n",
              "            await google.colab.kernel.invokeFunction('convertToInteractive',\n",
              "                                                     [key], {});\n",
              "          if (!dataTable) return;\n",
              "\n",
              "          const docLinkHtml = 'Like what you see? Visit the ' +\n",
              "            '<a target=\"_blank\" href=https://colab.research.google.com/notebooks/data_table.ipynb>data table notebook</a>'\n",
              "            + ' to learn more about interactive tables.';\n",
              "          element.innerHTML = '';\n",
              "          dataTable['output_type'] = 'display_data';\n",
              "          await google.colab.output.renderOutput(dataTable, element);\n",
              "          const docLink = document.createElement('div');\n",
              "          docLink.innerHTML = docLinkHtml;\n",
              "          element.appendChild(docLink);\n",
              "        }\n",
              "      </script>\n",
              "    </div>\n",
              "  </div>\n",
              "  "
            ]
          },
          "metadata": {},
          "execution_count": 5
        }
      ]
    },
    {
      "cell_type": "code",
      "source": [
        "df.shape"
      ],
      "metadata": {
        "colab": {
          "base_uri": "https://localhost:8080/"
        },
        "id": "t5lXvff8Gl2c",
        "outputId": "84fac7c3-9d02-46da-84a4-990aa4b59b38"
      },
      "execution_count": null,
      "outputs": [
        {
          "output_type": "execute_result",
          "data": {
            "text/plain": [
              "(2347, 4)"
            ]
          },
          "metadata": {},
          "execution_count": 6
        }
      ]
    },
    {
      "cell_type": "code",
      "source": [
        "df['gpt-symp'].value_counts()"
      ],
      "metadata": {
        "colab": {
          "base_uri": "https://localhost:8080/"
        },
        "id": "zAPVsp3vGOEh",
        "outputId": "94043e39-06f2-40a5-84fe-ae7f503c0471"
      },
      "execution_count": null,
      "outputs": [
        {
          "output_type": "execute_result",
          "data": {
            "text/plain": [
              "[]                                                                                                            1295\n",
              "['']                                                                                                            48\n",
              "['chest pain']                                                                                                  17\n",
              "['abdominal pain']                                                                                              11\n",
              "['shortness of breath']                                                                                         10\n",
              "                                                                                                              ... \n",
              "['pain', ' swelling', ' stiffness in affected finger']                                                           1\n",
              "['nerve conduction study tests diagnostic of carpal tunnel syndrome']                                            1\n",
              "['external carotid artery occlusion', ' back-bleeding', ' good internal carotid artery backflow bleeding']       1\n",
              "['lightheadedness', ' chest discomfort', ' shortness of breath']                                                 1\n",
              "['craniocerebral injuries']                                                                                      1\n",
              "Name: gpt-symp, Length: 884, dtype: int64"
            ]
          },
          "metadata": {},
          "execution_count": 7
        }
      ]
    },
    {
      "cell_type": "code",
      "source": [
        "df.head(30)"
      ],
      "metadata": {
        "colab": {
          "base_uri": "https://localhost:8080/",
          "height": 990
        },
        "id": "ffy7dN9FGoJ5",
        "outputId": "156460c9-ae68-4744-c12b-2a1d54693260"
      },
      "execution_count": null,
      "outputs": [
        {
          "output_type": "execute_result",
          "data": {
            "text/plain": [
              "                                                 text  \\\n",
              "0    A 23-year-old white female presents with comp...   \n",
              "1            Consult for laparoscopic gastric bypass.   \n",
              "2                              2-D M-Mode. Doppler.     \n",
              "3                                  2-D Echocardiogram   \n",
              "4    Morbid obesity.  Laparoscopic antecolic anteg...   \n",
              "5    Liposuction of the supraumbilical abdomen, re...   \n",
              "6    Suction-assisted lipectomy - lipodystrophy of...   \n",
              "7                          Echocardiogram and Doppler   \n",
              "8    Morbid obesity.  Laparoscopic Roux-en-Y gastr...   \n",
              "9    Normal left ventricle, moderate biatrial enla...   \n",
              "10             Cerebral Angiogram - moyamoya disease.   \n",
              "11   Patient presented to the bariatric surgery se...   \n",
              "12    Surgical removal of completely bony impacted...   \n",
              "13   Preoperative visit for weight management with...   \n",
              "14   Neck exploration; tracheostomy; urgent flexib...   \n",
              "15            Patient status post lap band placement.   \n",
              "16   Fertile male with completed family.  Elective...   \n",
              "17   The patient is a 17-year-old female, who pres...   \n",
              "18   Whole body radionuclide bone scan due to pros...   \n",
              "19   Patient discharged after laparoscopic Roux-en...   \n",
              "20                                   Normal vasectomy   \n",
              "21   Voluntary sterility.  Bilateral vasectomy.  T...   \n",
              "22   Blood in urine - Transitional cell cancer of ...   \n",
              "23   Hispanic male patient was admitted because of...   \n",
              "24   Umbilical hernia repair template.  The umbili...   \n",
              "25   Vasectomy 10 years ago, failed.  Azoospermic....   \n",
              "26   Desire for sterility.  Vasectomy.  The vas wa...   \n",
              "27   The patient noted for improving retention of ...   \n",
              "28   This is a 66-year-old male with signs and sym...   \n",
              "29   Right distal ureteral calculus.  The patient ...   \n",
              "\n",
              "                                              gpt-dis  \\\n",
              "0                                       ['allergies']   \n",
              "1                     ['laparoscopic gastric bypass']   \n",
              "2                                                  []   \n",
              "3                                                  []   \n",
              "4                                  ['Morbid obesity']   \n",
              "5                                                  []   \n",
              "6                                   ['lipodystrophy']   \n",
              "7                                 ['tudy are normal']   \n",
              "8                                  ['Morbid obesity']   \n",
              "9                                                  []   \n",
              "10                               ['Moyamoya disease']   \n",
              "11                              ['Bariatric surgery']   \n",
              "12                                                 []   \n",
              "13                                                 []   \n",
              "14                                   ['tracheostomy']   \n",
              "15                                                 []   \n",
              "16                                                 []   \n",
              "17             ['foreign body', ' airway compromise']   \n",
              "18                                ['prostate cancer']   \n",
              "19                       ['Roux-en-Y gastric bypass']   \n",
              "20                                  ['ive years ago']   \n",
              "21  ['ext', ' the vas was transected between the t...   \n",
              "22        ['Transitional cell cancer of the bladder']   \n",
              "23                              ['enlarged prostate']   \n",
              "24                               ['umbilical hernia']   \n",
              "25                                               ['']   \n",
              "26                                                 []   \n",
              "27                                                 []   \n",
              "28                   ['Benign prostatic hypertrophy']   \n",
              "29                 ['Right distal ureteral calculus']   \n",
              "\n",
              "                                             gpt-symp  \\\n",
              "0                                                  []   \n",
              "1                                                  []   \n",
              "2                                                  []   \n",
              "3                                                  []   \n",
              "4                                                  []   \n",
              "5                                                  []   \n",
              "6                   ['abdominal pain', ' thigh pain']   \n",
              "7                                                ['']   \n",
              "8                                                  []   \n",
              "9                                                  []   \n",
              "10                                                 []   \n",
              "11                                                 []   \n",
              "12                                                 []   \n",
              "13                                                 []   \n",
              "14                   ['urgent flexible bronchoscopy']   \n",
              "15                                                 []   \n",
              "16                                                 []   \n",
              "17                         ['intubated', ' fishbone']   \n",
              "18                                                 []   \n",
              "19                                                 []   \n",
              "20                                               ['']   \n",
              "21                                               ['']   \n",
              "22                                 ['blood in urine']   \n",
              "23                       ['bladder neck obstruction']   \n",
              "24                                                 []   \n",
              "25                                               ['']   \n",
              "26                                                 []   \n",
              "27  ['improving retention of urine', ' postop vagi...   \n",
              "28  ['recurrent urinary retention', ' urinary rete...   \n",
              "29                                      ['hematuria']   \n",
              "\n",
              "                                             gpt-drug  \n",
              "0                                                  []  \n",
              "1                                                  []  \n",
              "2                                                  []  \n",
              "3                                                  []  \n",
              "4   ['Laparoscopic antecolic antegastric Roux-en-Y...  \n",
              "5                                                  []  \n",
              "6                                                  []  \n",
              "7                                                  []  \n",
              "8   ['Laparoscopic Roux-en-Y gastric bypass', ' an...  \n",
              "9                                                  []  \n",
              "10                                                 []  \n",
              "11                                                 []  \n",
              "12  ['Surgical removal of completely bony impacted...  \n",
              "13                              ['weight management']  \n",
              "14  ['removal of foreign body', ' tracheal metalli...  \n",
              "15                                                 []  \n",
              "16                                                 []  \n",
              "17                                                 []  \n",
              "18                         ['radionuclide bone scan']  \n",
              "19                                                 []  \n",
              "20                                                 []  \n",
              "21                                                 []  \n",
              "22                                                 []  \n",
              "23                                                 []  \n",
              "24                      ['vertical mattress sutures']  \n",
              "25                                                 []  \n",
              "26                                                 []  \n",
              "27                                                 []  \n",
              "28                               ['self-catheterize']  \n",
              "29                                                 []  "
            ],
            "text/html": [
              "\n",
              "  <div id=\"df-3dd3c388-639e-43c5-a06e-f868e9dbd980\">\n",
              "    <div class=\"colab-df-container\">\n",
              "      <div>\n",
              "<style scoped>\n",
              "    .dataframe tbody tr th:only-of-type {\n",
              "        vertical-align: middle;\n",
              "    }\n",
              "\n",
              "    .dataframe tbody tr th {\n",
              "        vertical-align: top;\n",
              "    }\n",
              "\n",
              "    .dataframe thead th {\n",
              "        text-align: right;\n",
              "    }\n",
              "</style>\n",
              "<table border=\"1\" class=\"dataframe\">\n",
              "  <thead>\n",
              "    <tr style=\"text-align: right;\">\n",
              "      <th></th>\n",
              "      <th>text</th>\n",
              "      <th>gpt-dis</th>\n",
              "      <th>gpt-symp</th>\n",
              "      <th>gpt-drug</th>\n",
              "    </tr>\n",
              "  </thead>\n",
              "  <tbody>\n",
              "    <tr>\n",
              "      <th>0</th>\n",
              "      <td>A 23-year-old white female presents with comp...</td>\n",
              "      <td>['allergies']</td>\n",
              "      <td>[]</td>\n",
              "      <td>[]</td>\n",
              "    </tr>\n",
              "    <tr>\n",
              "      <th>1</th>\n",
              "      <td>Consult for laparoscopic gastric bypass.</td>\n",
              "      <td>['laparoscopic gastric bypass']</td>\n",
              "      <td>[]</td>\n",
              "      <td>[]</td>\n",
              "    </tr>\n",
              "    <tr>\n",
              "      <th>2</th>\n",
              "      <td>2-D M-Mode. Doppler.</td>\n",
              "      <td>[]</td>\n",
              "      <td>[]</td>\n",
              "      <td>[]</td>\n",
              "    </tr>\n",
              "    <tr>\n",
              "      <th>3</th>\n",
              "      <td>2-D Echocardiogram</td>\n",
              "      <td>[]</td>\n",
              "      <td>[]</td>\n",
              "      <td>[]</td>\n",
              "    </tr>\n",
              "    <tr>\n",
              "      <th>4</th>\n",
              "      <td>Morbid obesity.  Laparoscopic antecolic anteg...</td>\n",
              "      <td>['Morbid obesity']</td>\n",
              "      <td>[]</td>\n",
              "      <td>['Laparoscopic antecolic antegastric Roux-en-Y...</td>\n",
              "    </tr>\n",
              "    <tr>\n",
              "      <th>5</th>\n",
              "      <td>Liposuction of the supraumbilical abdomen, re...</td>\n",
              "      <td>[]</td>\n",
              "      <td>[]</td>\n",
              "      <td>[]</td>\n",
              "    </tr>\n",
              "    <tr>\n",
              "      <th>6</th>\n",
              "      <td>Suction-assisted lipectomy - lipodystrophy of...</td>\n",
              "      <td>['lipodystrophy']</td>\n",
              "      <td>['abdominal pain', ' thigh pain']</td>\n",
              "      <td>[]</td>\n",
              "    </tr>\n",
              "    <tr>\n",
              "      <th>7</th>\n",
              "      <td>Echocardiogram and Doppler</td>\n",
              "      <td>['tudy are normal']</td>\n",
              "      <td>['']</td>\n",
              "      <td>[]</td>\n",
              "    </tr>\n",
              "    <tr>\n",
              "      <th>8</th>\n",
              "      <td>Morbid obesity.  Laparoscopic Roux-en-Y gastr...</td>\n",
              "      <td>['Morbid obesity']</td>\n",
              "      <td>[]</td>\n",
              "      <td>['Laparoscopic Roux-en-Y gastric bypass', ' an...</td>\n",
              "    </tr>\n",
              "    <tr>\n",
              "      <th>9</th>\n",
              "      <td>Normal left ventricle, moderate biatrial enla...</td>\n",
              "      <td>[]</td>\n",
              "      <td>[]</td>\n",
              "      <td>[]</td>\n",
              "    </tr>\n",
              "    <tr>\n",
              "      <th>10</th>\n",
              "      <td>Cerebral Angiogram - moyamoya disease.</td>\n",
              "      <td>['Moyamoya disease']</td>\n",
              "      <td>[]</td>\n",
              "      <td>[]</td>\n",
              "    </tr>\n",
              "    <tr>\n",
              "      <th>11</th>\n",
              "      <td>Patient presented to the bariatric surgery se...</td>\n",
              "      <td>['Bariatric surgery']</td>\n",
              "      <td>[]</td>\n",
              "      <td>[]</td>\n",
              "    </tr>\n",
              "    <tr>\n",
              "      <th>12</th>\n",
              "      <td>Surgical removal of completely bony impacted...</td>\n",
              "      <td>[]</td>\n",
              "      <td>[]</td>\n",
              "      <td>['Surgical removal of completely bony impacted...</td>\n",
              "    </tr>\n",
              "    <tr>\n",
              "      <th>13</th>\n",
              "      <td>Preoperative visit for weight management with...</td>\n",
              "      <td>[]</td>\n",
              "      <td>[]</td>\n",
              "      <td>['weight management']</td>\n",
              "    </tr>\n",
              "    <tr>\n",
              "      <th>14</th>\n",
              "      <td>Neck exploration; tracheostomy; urgent flexib...</td>\n",
              "      <td>['tracheostomy']</td>\n",
              "      <td>['urgent flexible bronchoscopy']</td>\n",
              "      <td>['removal of foreign body', ' tracheal metalli...</td>\n",
              "    </tr>\n",
              "    <tr>\n",
              "      <th>15</th>\n",
              "      <td>Patient status post lap band placement.</td>\n",
              "      <td>[]</td>\n",
              "      <td>[]</td>\n",
              "      <td>[]</td>\n",
              "    </tr>\n",
              "    <tr>\n",
              "      <th>16</th>\n",
              "      <td>Fertile male with completed family.  Elective...</td>\n",
              "      <td>[]</td>\n",
              "      <td>[]</td>\n",
              "      <td>[]</td>\n",
              "    </tr>\n",
              "    <tr>\n",
              "      <th>17</th>\n",
              "      <td>The patient is a 17-year-old female, who pres...</td>\n",
              "      <td>['foreign body', ' airway compromise']</td>\n",
              "      <td>['intubated', ' fishbone']</td>\n",
              "      <td>[]</td>\n",
              "    </tr>\n",
              "    <tr>\n",
              "      <th>18</th>\n",
              "      <td>Whole body radionuclide bone scan due to pros...</td>\n",
              "      <td>['prostate cancer']</td>\n",
              "      <td>[]</td>\n",
              "      <td>['radionuclide bone scan']</td>\n",
              "    </tr>\n",
              "    <tr>\n",
              "      <th>19</th>\n",
              "      <td>Patient discharged after laparoscopic Roux-en...</td>\n",
              "      <td>['Roux-en-Y gastric bypass']</td>\n",
              "      <td>[]</td>\n",
              "      <td>[]</td>\n",
              "    </tr>\n",
              "    <tr>\n",
              "      <th>20</th>\n",
              "      <td>Normal vasectomy</td>\n",
              "      <td>['ive years ago']</td>\n",
              "      <td>['']</td>\n",
              "      <td>[]</td>\n",
              "    </tr>\n",
              "    <tr>\n",
              "      <th>21</th>\n",
              "      <td>Voluntary sterility.  Bilateral vasectomy.  T...</td>\n",
              "      <td>['ext', ' the vas was transected between the t...</td>\n",
              "      <td>['']</td>\n",
              "      <td>[]</td>\n",
              "    </tr>\n",
              "    <tr>\n",
              "      <th>22</th>\n",
              "      <td>Blood in urine - Transitional cell cancer of ...</td>\n",
              "      <td>['Transitional cell cancer of the bladder']</td>\n",
              "      <td>['blood in urine']</td>\n",
              "      <td>[]</td>\n",
              "    </tr>\n",
              "    <tr>\n",
              "      <th>23</th>\n",
              "      <td>Hispanic male patient was admitted because of...</td>\n",
              "      <td>['enlarged prostate']</td>\n",
              "      <td>['bladder neck obstruction']</td>\n",
              "      <td>[]</td>\n",
              "    </tr>\n",
              "    <tr>\n",
              "      <th>24</th>\n",
              "      <td>Umbilical hernia repair template.  The umbili...</td>\n",
              "      <td>['umbilical hernia']</td>\n",
              "      <td>[]</td>\n",
              "      <td>['vertical mattress sutures']</td>\n",
              "    </tr>\n",
              "    <tr>\n",
              "      <th>25</th>\n",
              "      <td>Vasectomy 10 years ago, failed.  Azoospermic....</td>\n",
              "      <td>['']</td>\n",
              "      <td>['']</td>\n",
              "      <td>[]</td>\n",
              "    </tr>\n",
              "    <tr>\n",
              "      <th>26</th>\n",
              "      <td>Desire for sterility.  Vasectomy.  The vas wa...</td>\n",
              "      <td>[]</td>\n",
              "      <td>[]</td>\n",
              "      <td>[]</td>\n",
              "    </tr>\n",
              "    <tr>\n",
              "      <th>27</th>\n",
              "      <td>The patient noted for improving retention of ...</td>\n",
              "      <td>[]</td>\n",
              "      <td>['improving retention of urine', ' postop vagi...</td>\n",
              "      <td>[]</td>\n",
              "    </tr>\n",
              "    <tr>\n",
              "      <th>28</th>\n",
              "      <td>This is a 66-year-old male with signs and sym...</td>\n",
              "      <td>['Benign prostatic hypertrophy']</td>\n",
              "      <td>['recurrent urinary retention', ' urinary rete...</td>\n",
              "      <td>['self-catheterize']</td>\n",
              "    </tr>\n",
              "    <tr>\n",
              "      <th>29</th>\n",
              "      <td>Right distal ureteral calculus.  The patient ...</td>\n",
              "      <td>['Right distal ureteral calculus']</td>\n",
              "      <td>['hematuria']</td>\n",
              "      <td>[]</td>\n",
              "    </tr>\n",
              "  </tbody>\n",
              "</table>\n",
              "</div>\n",
              "      <button class=\"colab-df-convert\" onclick=\"convertToInteractive('df-3dd3c388-639e-43c5-a06e-f868e9dbd980')\"\n",
              "              title=\"Convert this dataframe to an interactive table.\"\n",
              "              style=\"display:none;\">\n",
              "        \n",
              "  <svg xmlns=\"http://www.w3.org/2000/svg\" height=\"24px\"viewBox=\"0 0 24 24\"\n",
              "       width=\"24px\">\n",
              "    <path d=\"M0 0h24v24H0V0z\" fill=\"none\"/>\n",
              "    <path d=\"M18.56 5.44l.94 2.06.94-2.06 2.06-.94-2.06-.94-.94-2.06-.94 2.06-2.06.94zm-11 1L8.5 8.5l.94-2.06 2.06-.94-2.06-.94L8.5 2.5l-.94 2.06-2.06.94zm10 10l.94 2.06.94-2.06 2.06-.94-2.06-.94-.94-2.06-.94 2.06-2.06.94z\"/><path d=\"M17.41 7.96l-1.37-1.37c-.4-.4-.92-.59-1.43-.59-.52 0-1.04.2-1.43.59L10.3 9.45l-7.72 7.72c-.78.78-.78 2.05 0 2.83L4 21.41c.39.39.9.59 1.41.59.51 0 1.02-.2 1.41-.59l7.78-7.78 2.81-2.81c.8-.78.8-2.07 0-2.86zM5.41 20L4 18.59l7.72-7.72 1.47 1.35L5.41 20z\"/>\n",
              "  </svg>\n",
              "      </button>\n",
              "      \n",
              "  <style>\n",
              "    .colab-df-container {\n",
              "      display:flex;\n",
              "      flex-wrap:wrap;\n",
              "      gap: 12px;\n",
              "    }\n",
              "\n",
              "    .colab-df-convert {\n",
              "      background-color: #E8F0FE;\n",
              "      border: none;\n",
              "      border-radius: 50%;\n",
              "      cursor: pointer;\n",
              "      display: none;\n",
              "      fill: #1967D2;\n",
              "      height: 32px;\n",
              "      padding: 0 0 0 0;\n",
              "      width: 32px;\n",
              "    }\n",
              "\n",
              "    .colab-df-convert:hover {\n",
              "      background-color: #E2EBFA;\n",
              "      box-shadow: 0px 1px 2px rgba(60, 64, 67, 0.3), 0px 1px 3px 1px rgba(60, 64, 67, 0.15);\n",
              "      fill: #174EA6;\n",
              "    }\n",
              "\n",
              "    [theme=dark] .colab-df-convert {\n",
              "      background-color: #3B4455;\n",
              "      fill: #D2E3FC;\n",
              "    }\n",
              "\n",
              "    [theme=dark] .colab-df-convert:hover {\n",
              "      background-color: #434B5C;\n",
              "      box-shadow: 0px 1px 3px 1px rgba(0, 0, 0, 0.15);\n",
              "      filter: drop-shadow(0px 1px 2px rgba(0, 0, 0, 0.3));\n",
              "      fill: #FFFFFF;\n",
              "    }\n",
              "  </style>\n",
              "\n",
              "      <script>\n",
              "        const buttonEl =\n",
              "          document.querySelector('#df-3dd3c388-639e-43c5-a06e-f868e9dbd980 button.colab-df-convert');\n",
              "        buttonEl.style.display =\n",
              "          google.colab.kernel.accessAllowed ? 'block' : 'none';\n",
              "\n",
              "        async function convertToInteractive(key) {\n",
              "          const element = document.querySelector('#df-3dd3c388-639e-43c5-a06e-f868e9dbd980');\n",
              "          const dataTable =\n",
              "            await google.colab.kernel.invokeFunction('convertToInteractive',\n",
              "                                                     [key], {});\n",
              "          if (!dataTable) return;\n",
              "\n",
              "          const docLinkHtml = 'Like what you see? Visit the ' +\n",
              "            '<a target=\"_blank\" href=https://colab.research.google.com/notebooks/data_table.ipynb>data table notebook</a>'\n",
              "            + ' to learn more about interactive tables.';\n",
              "          element.innerHTML = '';\n",
              "          dataTable['output_type'] = 'display_data';\n",
              "          await google.colab.output.renderOutput(dataTable, element);\n",
              "          const docLink = document.createElement('div');\n",
              "          docLink.innerHTML = docLinkHtml;\n",
              "          element.appendChild(docLink);\n",
              "        }\n",
              "      </script>\n",
              "    </div>\n",
              "  </div>\n",
              "  "
            ]
          },
          "metadata": {},
          "execution_count": 8
        }
      ]
    },
    {
      "cell_type": "code",
      "source": [
        "from ast import literal_eval"
      ],
      "metadata": {
        "id": "a6uXhm-eHX15"
      },
      "execution_count": null,
      "outputs": []
    },
    {
      "cell_type": "code",
      "source": [
        "def find_sub_list(sl,l):\n",
        "    sll=len(sl)\n",
        "    for ind in (i for i,e in enumerate(l) if e==sl[0]):\n",
        "        if l[ind:ind+sll]==sl:\n",
        "            return ind,ind+sll-1"
      ],
      "metadata": {
        "id": "7GS0srtyI4_H"
      },
      "execution_count": null,
      "outputs": []
    },
    {
      "cell_type": "code",
      "source": [
        "find_sub_list(['bradycardia'],['Holter', 'monitoring', 'For', 'bradycardia', 'and', 'dizziness'])"
      ],
      "metadata": {
        "colab": {
          "base_uri": "https://localhost:8080/"
        },
        "id": "QrGeWKsYL3TE",
        "outputId": "e6b3a056-3da0-44ef-ef35-f5e42d8b245a"
      },
      "execution_count": null,
      "outputs": [
        {
          "output_type": "execute_result",
          "data": {
            "text/plain": [
              "(3, 3)"
            ]
          },
          "metadata": {},
          "execution_count": 11
        }
      ]
    },
    {
      "cell_type": "code",
      "source": [
        "import re"
      ],
      "metadata": {
        "id": "ItKr309eK9pt"
      },
      "execution_count": null,
      "outputs": []
    },
    {
      "cell_type": "code",
      "source": [
        "import requests\n",
        "from bs4 import BeautifulSoup"
      ],
      "metadata": {
        "id": "H4ei0zva7C8j"
      },
      "execution_count": null,
      "outputs": []
    },
    {
      "cell_type": "code",
      "source": [
        "URL = 'https://en.wikipedia.org/wiki/List_of_medical_symptoms'\n",
        "r = requests.get(URL)\n",
        "\n",
        "soup = BeautifulSoup(r.content, 'html.parser')\n",
        "# print(soup.prettify())\n",
        "\n",
        "#print(soup.find_all(class_='_1RWRBu'))\n",
        "find_obj = soup.find_all('div',attrs={'class':'div-col'})"
      ],
      "metadata": {
        "id": "1nvQMmTI7cAy"
      },
      "execution_count": null,
      "outputs": []
    },
    {
      "cell_type": "code",
      "source": [
        "all_diseases = []"
      ],
      "metadata": {
        "id": "vlDgC7cE-mfa"
      },
      "execution_count": null,
      "outputs": []
    },
    {
      "cell_type": "code",
      "source": [
        "for a in find_obj[1].find_all('a', href=True):\n",
        "    all_diseases.append(a.text)"
      ],
      "metadata": {
        "id": "lTcZ8Sz77q1S"
      },
      "execution_count": null,
      "outputs": []
    },
    {
      "cell_type": "code",
      "source": [
        "len(all_diseases)"
      ],
      "metadata": {
        "colab": {
          "base_uri": "https://localhost:8080/"
        },
        "id": "47caKh1Y_QNi",
        "outputId": "183751d5-12f8-4a1e-ac2d-90b15844ca89"
      },
      "execution_count": null,
      "outputs": [
        {
          "output_type": "execute_result",
          "data": {
            "text/plain": [
              "182"
            ]
          },
          "metadata": {},
          "execution_count": 22
        }
      ]
    },
    {
      "cell_type": "code",
      "source": [
        "all_diseases"
      ],
      "metadata": {
        "id": "AQ8L5BYpSVXc",
        "outputId": "18516ca0-bc3c-4eba-d9a0-4dc7f0fe27dc",
        "colab": {
          "base_uri": "https://localhost:8080/"
        }
      },
      "execution_count": null,
      "outputs": [
        {
          "output_type": "execute_result",
          "data": {
            "text/plain": [
              "['anorexia',\n",
              " 'weight loss',\n",
              " 'cachexia',\n",
              " 'chills',\n",
              " 'shivering',\n",
              " 'convulsions',\n",
              " 'deformity',\n",
              " 'discharge',\n",
              " 'dizziness',\n",
              " 'Vertigo',\n",
              " 'fatigue',\n",
              " 'malaise',\n",
              " 'asthenia',\n",
              " 'hypothermia',\n",
              " 'jaundice',\n",
              " 'muscle weakness',\n",
              " 'pyrexia',\n",
              " 'sweats',\n",
              " 'swelling',\n",
              " 'swollen or painful lymph node(s)',\n",
              " 'weight gain',\n",
              " 'arrhythmia',\n",
              " 'bradycardia',\n",
              " 'chest pain',\n",
              " 'claudication',\n",
              " 'palpitations',\n",
              " 'tachycardia',\n",
              " 'dry mouth',\n",
              " 'epistaxis',\n",
              " 'halitosis',\n",
              " 'hearing loss',\n",
              " 'nasal discharge',\n",
              " 'otalgia',\n",
              " 'otorrhea',\n",
              " 'sore throat',\n",
              " 'toothache',\n",
              " 'tinnitus',\n",
              " 'trismus',\n",
              " 'abdominal pain',\n",
              " 'bloating',\n",
              " 'belching',\n",
              " 'bleeding',\n",
              " 'Hematemesis',\n",
              " 'blood in stool',\n",
              " 'melena',\n",
              " 'hematochezia',\n",
              " 'constipation',\n",
              " 'diarrhea',\n",
              " 'dysphagia',\n",
              " 'dyspepsia',\n",
              " 'fecal incontinence',\n",
              " 'flatulence',\n",
              " 'heartburn',\n",
              " 'nausea',\n",
              " 'odynophagia',\n",
              " 'proctalgia fugax',\n",
              " 'pyrosis',\n",
              " 'Rectal tenesmus',\n",
              " 'steatorrhea',\n",
              " 'vomiting',\n",
              " 'alopecia',\n",
              " 'hirsutism',\n",
              " 'hypertrichosis',\n",
              " 'Nail_disease §\\xa0Nail_changes_and_conditions_associated_with_them',\n",
              " 'abrasion',\n",
              " 'anasarca',\n",
              " 'petechia',\n",
              " 'purpura',\n",
              " 'ecchymosis',\n",
              " 'bruising',\n",
              " 'blister',\n",
              " 'edema',\n",
              " 'itching',\n",
              " 'Janeway lesions',\n",
              " \"Osler's node\",\n",
              " 'laceration',\n",
              " 'rash',\n",
              " 'urticaria',\n",
              " 'abnormal posturing',\n",
              " 'acalculia',\n",
              " 'agnosia',\n",
              " 'alexia',\n",
              " 'amnesia',\n",
              " 'anomia',\n",
              " 'anosognosia',\n",
              " 'aphasia',\n",
              " 'apraxia',\n",
              " 'apraxia',\n",
              " 'ataxia',\n",
              " 'cataplexy',\n",
              " 'confusion',\n",
              " 'dysarthria',\n",
              " 'dysdiadochokinesia',\n",
              " 'dysgraphia',\n",
              " 'hallucination',\n",
              " 'headache',\n",
              " 'hypokinetic movement disorder',\n",
              " 'akinesia',\n",
              " 'bradykinesia',\n",
              " 'akathisia',\n",
              " 'athetosis',\n",
              " 'ballismus',\n",
              " 'blepharospasm',\n",
              " 'chorea',\n",
              " 'dystonia',\n",
              " 'fasciculation',\n",
              " 'muscle cramps',\n",
              " 'myoclonus',\n",
              " 'opsoclonus',\n",
              " 'tic',\n",
              " 'tremor',\n",
              " 'flapping tremor',\n",
              " 'insomnia',\n",
              " \"Lhermitte's sign\",\n",
              " 'loss of consciousness',\n",
              " 'Syncope (medicine)',\n",
              " 'neck stiffness',\n",
              " 'opisthotonus',\n",
              " 'paralysis',\n",
              " 'paresis',\n",
              " 'paresthesia',\n",
              " 'prosopagnosia',\n",
              " 'somnolence',\n",
              " 'abnormal vaginal bleeding',\n",
              " 'vaginal bleeding in early pregnancy',\n",
              " 'miscarriage',\n",
              " 'vaginal bleeding in late pregnancy',\n",
              " 'amenorrhea',\n",
              " 'infertility',\n",
              " 'painful intercourse',\n",
              " 'pelvic pain',\n",
              " 'vaginal discharge',\n",
              " 'amaurosis fugax',\n",
              " 'amaurosis',\n",
              " 'blurred vision',\n",
              " \"Dalrymple's sign\",\n",
              " 'double vision',\n",
              " 'exophthalmos',\n",
              " 'mydriasis',\n",
              " 'miosis',\n",
              " 'nystagmus',\n",
              " 'amusia',\n",
              " 'anhedonia',\n",
              " 'anxiety',\n",
              " 'apathy',\n",
              " 'confabulation',\n",
              " 'depression',\n",
              " 'delusion',\n",
              " 'euphoria',\n",
              " 'homicidal ideation',\n",
              " 'irritability',\n",
              " 'mania',\n",
              " 'paranoid ideation',\n",
              " 'phobia',\n",
              " 'list of phobias',\n",
              " 'suicidal ideation',\n",
              " 'apnea',\n",
              " 'hypopnea',\n",
              " 'cough',\n",
              " 'dyspnea',\n",
              " 'bradypnea',\n",
              " 'tachypnea',\n",
              " 'orthopnea',\n",
              " 'platypnea',\n",
              " 'trepopnea',\n",
              " 'hemoptysis',\n",
              " 'pleuritic chest pain',\n",
              " 'sputum',\n",
              " 'arthralgia',\n",
              " 'back pain',\n",
              " 'sciatica',\n",
              " 'dysuria',\n",
              " 'hematospermia',\n",
              " 'hematuria',\n",
              " 'impotence',\n",
              " 'polyuria',\n",
              " 'retrograde ejaculation',\n",
              " 'strangury',\n",
              " 'urethral discharge',\n",
              " 'urinary frequency',\n",
              " 'urinary incontinence',\n",
              " 'urinary retention']"
            ]
          },
          "metadata": {},
          "execution_count": 110
        }
      ]
    },
    {
      "cell_type": "code",
      "source": [
        "syntetic_data =[]"
      ],
      "metadata": {
        "id": "rdGznYkR0zTA"
      },
      "execution_count": null,
      "outputs": []
    },
    {
      "cell_type": "code",
      "source": [
        "import random"
      ],
      "metadata": {
        "id": "hTq_6QGr3Ezh"
      },
      "execution_count": null,
      "outputs": []
    },
    {
      "cell_type": "code",
      "source": [
        "def construct_sythetic_data(text,symp,replace_text_list):\n",
        "    text = text.lower()\n",
        "    text = re.sub(r'[^A-Za-z ]','',text)\n",
        "    symp_list = literal_eval(symp)\n",
        "    if len(symp_list)==0:\n",
        "        return []\n",
        "    symp = random.choice(symp_list)\n",
        "\n",
        "    if symp not in text:\n",
        "        return []\n",
        "    if len(replace_text_list) == 2:\n",
        "        replace_text = ' and '.join(replace_text_list)\n",
        "    elif len(replace_text_list) == 3:\n",
        "        replace_text = replace_text_list[0]+', '+replace_text_list[1]+' and '+replace_text_list[2]\n",
        "    else:\n",
        "        replace_text = replace_text_list[0]\n",
        "    \n",
        "    final_text = text.replace(symp,replace_text)\n",
        "    return [final_text,[''],replace_text_list,['']]"
      ],
      "metadata": {
        "id": "Y3o2Ah5q1r7x"
      },
      "execution_count": null,
      "outputs": []
    },
    {
      "cell_type": "code",
      "source": [
        "test_row = df.iloc[32].to_list()\n",
        "test_row"
      ],
      "metadata": {
        "colab": {
          "base_uri": "https://localhost:8080/"
        },
        "id": "nC8c2YJS3MOA",
        "outputId": "692aff32-fabb-447e-e62e-63dcbb9a0993"
      },
      "execution_count": null,
      "outputs": [
        {
          "output_type": "execute_result",
          "data": {
            "text/plain": [
              "[' Ultrasound examination of the scrotum due to scrotal pain.  Duplex and color flow imaging as well as real time gray-scale imaging of the scrotum and testicles was performed. ',\n",
              " '[]',\n",
              " \"['scrotal pain']\",\n",
              " '[]']"
            ]
          },
          "metadata": {},
          "execution_count": 43
        }
      ]
    },
    {
      "cell_type": "code",
      "source": [
        "construct_sythetic_data(test_row[0],test_row[2],['bodypain'])"
      ],
      "metadata": {
        "colab": {
          "base_uri": "https://localhost:8080/"
        },
        "id": "4P_qq7s023K3",
        "outputId": "b79a7204-27e3-4ebe-b7a1-b9a1ffd925c0"
      },
      "execution_count": null,
      "outputs": [
        {
          "output_type": "execute_result",
          "data": {
            "text/plain": [
              "[' ultrasound examination of the scrotum due to bodypain  duplex and color flow imaging as well as real time grayscale imaging of the scrotum and testicles was performed ',\n",
              " [''],\n",
              " ['bodypain'],\n",
              " ['']]"
            ]
          },
          "metadata": {},
          "execution_count": 44
        }
      ]
    },
    {
      "cell_type": "code",
      "source": [
        "number_of_synthteic_samples = 5000"
      ],
      "metadata": {
        "id": "5sZHOy4323Ie"
      },
      "execution_count": null,
      "outputs": []
    },
    {
      "cell_type": "code",
      "source": [
        "from tqdm import tqdm\n",
        "import numpy as np"
      ],
      "metadata": {
        "id": "270Cmq4G5vWw"
      },
      "execution_count": null,
      "outputs": []
    },
    {
      "cell_type": "code",
      "source": [
        "temp_new_df = df[~df['gpt-symp'].isin(['[]','['']','[' ']'])]\n",
        "temp_new_df.shape"
      ],
      "metadata": {
        "colab": {
          "base_uri": "https://localhost:8080/"
        },
        "id": "ZkzgCexV7XzU",
        "outputId": "5427e305-cbc2-4892-aecc-b5cbd97b1905"
      },
      "execution_count": null,
      "outputs": [
        {
          "output_type": "execute_result",
          "data": {
            "text/plain": [
              "(1052, 4)"
            ]
          },
          "metadata": {},
          "execution_count": 78
        }
      ]
    },
    {
      "cell_type": "code",
      "source": [
        "synthetic_data_frame = pd.DataFrame(columns=df.columns)"
      ],
      "metadata": {
        "id": "Nk_WjijA46RI"
      },
      "execution_count": null,
      "outputs": []
    },
    {
      "cell_type": "code",
      "source": [
        "c = 0\n",
        "while(c<number_of_synthteic_samples):\n",
        "    number_of_replacements = list(np.random.choice([1,2,3],1,p=[0.65,0.25,0.1]))[0]\n",
        "    replace_symptom_list = random.sample(all_diseases,number_of_replacements)\n",
        "    random_row = temp_new_df.iloc[random.choice(list(range(temp_new_df.shape[1])))].to_list()\n",
        "    #print(random_row[0],random_row[2],replace_symptom_list)\n",
        "    syntetic_row = construct_sythetic_data(random_row[0],random_row[2],replace_symptom_list)\n",
        "    if syntetic_row==[]:\n",
        "        continue\n",
        "    synthetic_data_frame.loc[len(synthetic_data_frame)] = syntetic_row\n",
        "    c += 1\n",
        "\n",
        "    if c%100==0:\n",
        "        print(c)"
      ],
      "metadata": {
        "id": "kHzkqueR4GYS"
      },
      "execution_count": null,
      "outputs": []
    },
    {
      "cell_type": "code",
      "source": [
        "synthetic_data_frame.head(60)"
      ],
      "metadata": {
        "id": "8tIzXp5g8DvY"
      },
      "execution_count": null,
      "outputs": []
    },
    {
      "cell_type": "code",
      "source": [],
      "metadata": {
        "id": "e8McUIic33V4"
      },
      "execution_count": null,
      "outputs": []
    },
    {
      "cell_type": "code",
      "source": [
        "df = pd.concat([df,synthetic_data_frame])"
      ],
      "metadata": {
        "id": "4hfUAx4i0e1c"
      },
      "execution_count": null,
      "outputs": []
    },
    {
      "cell_type": "code",
      "source": [
        "def construct_BIO(text,symp):\n",
        "    # print(text,symp)\n",
        "    try:\n",
        "        text = text.lower()\n",
        "        text = re.sub(r'[^A-Za-z ]','',text)\n",
        "        symp_list = literal_eval(symp)\n",
        "        new_symp = []\n",
        "        if len(symp) == 0:\n",
        "            return [],[]\n",
        "        for symp in symp_list:\n",
        "            if text.count(symp)>2:\n",
        "                return [],[]\n",
        "            if symp.strip()=='':\n",
        "                continue\n",
        "            else:\n",
        "                new_symp.append(symp.strip())\n",
        "        \n",
        "        if len(new_symp) == 0:\n",
        "            return [],[]\n",
        "        \n",
        "        symp_ind = []\n",
        "        words = text.split()\n",
        "        for symp in new_symp:\n",
        "            symp_words = symp.split()\n",
        "            symp_ind.append(find_sub_list(symp_words,words))\n",
        "        \n",
        "        BIO_tag = ['O']*len(words)\n",
        "        for inds in symp_ind:\n",
        "            BIO_tag[inds[0]] = 'B-Symptom'\n",
        "            for i in range(inds[0]+1,inds[1]+1):\n",
        "                BIO_tag[i] = 'I-Symptom'\n",
        "\n",
        "        return words,BIO_tag\n",
        "    except:\n",
        "        return [],[]"
      ],
      "metadata": {
        "id": "VIYgb2ZvHXxB"
      },
      "execution_count": null,
      "outputs": []
    },
    {
      "cell_type": "code",
      "source": [
        "construct_BIO(df['text'].to_list()[5200],df['gpt-symp'].to_list()[23])"
      ],
      "metadata": {
        "colab": {
          "base_uri": "https://localhost:8080/"
        },
        "id": "zpZhdyNDNUY8",
        "outputId": "35983155-2c32-4d16-c598-d327ea7c920b"
      },
      "execution_count": null,
      "outputs": [
        {
          "output_type": "execute_result",
          "data": {
            "text/plain": [
              "([], [])"
            ]
          },
          "metadata": {},
          "execution_count": 89
        }
      ]
    },
    {
      "cell_type": "code",
      "source": [
        "sent_ids = []\n",
        "tokens_list = []\n",
        "tags_list = []"
      ],
      "metadata": {
        "id": "ril79TSxICuX"
      },
      "execution_count": null,
      "outputs": []
    },
    {
      "cell_type": "code",
      "source": [
        "from tqdm import tqdm"
      ],
      "metadata": {
        "id": "sOn0mmBiMqGM"
      },
      "execution_count": null,
      "outputs": []
    },
    {
      "cell_type": "code",
      "source": [
        "old_id = list(old_df['sentence_id'].unique())"
      ],
      "metadata": {
        "id": "Pyc1MobSyj73"
      },
      "execution_count": null,
      "outputs": []
    },
    {
      "cell_type": "code",
      "source": [
        "import random"
      ],
      "metadata": {
        "id": "kG-Otwa8yrxM"
      },
      "execution_count": null,
      "outputs": []
    },
    {
      "cell_type": "code",
      "source": [
        "c = 100000\n",
        "for ind,(text,tags) in tqdm(enumerate(zip(df['text'].to_list(),df['gpt-symp'].to_list()))):\n",
        "    \n",
        "    tokens,tags = construct_BIO(text,tags)\n",
        "    tokens_list += tokens\n",
        "    tags_list += tags\n",
        "    sent_ids += [ind+c]*len(tokens)"
      ],
      "metadata": {
        "colab": {
          "base_uri": "https://localhost:8080/"
        },
        "id": "yeZSPh5LLHu-",
        "outputId": "16b537d1-e0e7-4cb2-9db2-111431eb5c65"
      },
      "execution_count": null,
      "outputs": [
        {
          "output_type": "stream",
          "name": "stderr",
          "text": [
            "7347it [00:00, 102785.32it/s]\n"
          ]
        }
      ]
    },
    {
      "cell_type": "code",
      "source": [
        "len(sent_ids)"
      ],
      "metadata": {
        "colab": {
          "base_uri": "https://localhost:8080/"
        },
        "id": "rqVPOh88NM7x",
        "outputId": "d8d9bfd4-f346-4e93-bc4d-8398c8d4878f"
      },
      "execution_count": null,
      "outputs": [
        {
          "output_type": "execute_result",
          "data": {
            "text/plain": [
              "27516"
            ]
          },
          "metadata": {},
          "execution_count": 103
        }
      ]
    },
    {
      "cell_type": "code",
      "source": [],
      "metadata": {
        "id": "s2CMUo1H0c9r"
      },
      "execution_count": null,
      "outputs": []
    },
    {
      "cell_type": "code",
      "source": [],
      "metadata": {
        "id": "JzPMB1Es0c7e"
      },
      "execution_count": null,
      "outputs": []
    },
    {
      "cell_type": "code",
      "source": [],
      "metadata": {
        "id": "aeTv3-d30c5f"
      },
      "execution_count": null,
      "outputs": []
    },
    {
      "cell_type": "code",
      "source": [],
      "metadata": {
        "id": "BUkhOeCx0c2z"
      },
      "execution_count": null,
      "outputs": []
    },
    {
      "cell_type": "code",
      "source": [],
      "metadata": {
        "id": "6pfHhLjN0C92"
      },
      "execution_count": null,
      "outputs": []
    },
    {
      "cell_type": "code",
      "source": [],
      "metadata": {
        "id": "0CCsM1Xx0C6C"
      },
      "execution_count": null,
      "outputs": []
    },
    {
      "cell_type": "code",
      "source": [
        "new_df = pd.DataFrame(columns = ['Unnamed: 0','words','labels','sentence_id'])"
      ],
      "metadata": {
        "id": "CqjimCvqOiCJ"
      },
      "execution_count": null,
      "outputs": []
    },
    {
      "cell_type": "code",
      "source": [
        "new_df['Unnamed: 0']= [0]*len(tags_list)\n",
        "new_df['words'] = tokens_list\n",
        "new_df['labels'] = tags_list\n",
        "new_df['sentence_id'] = sent_ids"
      ],
      "metadata": {
        "id": "czYpCTfFOwEy"
      },
      "execution_count": null,
      "outputs": []
    },
    {
      "cell_type": "code",
      "source": [
        "new_df.to_csv('/content/drive/MyDrive/Project/combined_symptom_train_data_tets_100000.csv',index=False)"
      ],
      "metadata": {
        "id": "fYzWrZyPgJfi"
      },
      "execution_count": null,
      "outputs": []
    },
    {
      "cell_type": "code",
      "source": [
        "final_df = pd.concat([old_df,new_df])"
      ],
      "metadata": {
        "id": "T0a9KsRfPEmT"
      },
      "execution_count": null,
      "outputs": []
    },
    {
      "cell_type": "code",
      "source": [
        "final_df = final_df.drop_duplicates()"
      ],
      "metadata": {
        "id": "AQ_-1XafzGrl"
      },
      "execution_count": null,
      "outputs": []
    },
    {
      "cell_type": "code",
      "source": [
        "final_df.to_csv('/content/drive/MyDrive/Project/combined_train_data2_test_100000.csv',index=False)"
      ],
      "metadata": {
        "id": "buuqu9o1PKDw"
      },
      "execution_count": null,
      "outputs": []
    },
    {
      "cell_type": "code",
      "source": [],
      "metadata": {
        "id": "898Os3oIPQVK"
      },
      "execution_count": null,
      "outputs": []
    }
  ]
}